{
 "cells": [
  {
   "cell_type": "code",
   "execution_count": 23,
   "id": "30ab0797",
   "metadata": {},
   "outputs": [],
   "source": [
    "import numpy as np\n",
    "from scipy.stats import norm"
   ]
  },
  {
   "cell_type": "code",
   "execution_count": 36,
   "id": "cbce2d2e",
   "metadata": {},
   "outputs": [],
   "source": [
    "n_samples = 1000\n",
    "x_churned = 240\n",
    "alpha = 0.01\n",
    "p0 = 0.25\n",
    "\n",
    "# Calculate sample proportion\n",
    "p = float(x_churned / n_samples)\n",
    "\n",
    "# Calculate standard error under null hypothesis\n",
    "standard_error = ((p * (1 - p)) / n_samples) ** 0.5\n",
    "\n",
    "# Calculate test statistic\n",
    "z = (p - p0) / standard_error\n",
    "\n",
    "# Critical value for one-tailed test at alpha = 0.01\n",
    "z_critical = norm.ppf(alpha)"
   ]
  },
  {
   "cell_type": "code",
   "execution_count": 37,
   "id": "52c76c85",
   "metadata": {},
   "outputs": [
    {
     "name": "stdout",
     "output_type": "stream",
     "text": [
      "Sample proportion (p̂): 0.24\n",
      "Standard error (SE): 0.013505554412907307\n",
      "Test statistic (z): -0.740436097198866\n",
      "Critical value (zα): -2.3263478740408408\n"
     ]
    }
   ],
   "source": [
    "# Output results\n",
    "print(\"Sample proportion (p̂):\", p)\n",
    "print(\"Standard error (SE):\", standard_error)\n",
    "print(\"Test statistic (z):\", z)\n",
    "print(\"Critical value (zα):\", z_critical)"
   ]
  },
  {
   "cell_type": "code",
   "execution_count": 38,
   "id": "7654e577",
   "metadata": {},
   "outputs": [
    {
     "name": "stdout",
     "output_type": "stream",
     "text": [
      "We Fail to reject the null hypothesis: There is not enough evidence to conclude the population proportion of churners is less than 25%.\n"
     ]
    }
   ],
   "source": [
    "# Decision\n",
    "if z < z_critical:\n",
    "    print(\"Reject the null hypothesis: The population proportion of churners is less than 25%.\")\n",
    "else:\n",
    "    print(\"We Fail to reject the null hypothesis: There is not enough evidence to conclude the population proportion of churners is less than 25%.\")"
   ]
  },
  {
   "cell_type": "code",
   "execution_count": null,
   "id": "f587bff6",
   "metadata": {},
   "outputs": [],
   "source": []
  }
 ],
 "metadata": {
  "kernelspec": {
   "display_name": "Python 3 (ipykernel)",
   "language": "python",
   "name": "python3"
  },
  "language_info": {
   "codemirror_mode": {
    "name": "ipython",
    "version": 3
   },
   "file_extension": ".py",
   "mimetype": "text/x-python",
   "name": "python",
   "nbconvert_exporter": "python",
   "pygments_lexer": "ipython3",
   "version": "3.11.4"
  }
 },
 "nbformat": 4,
 "nbformat_minor": 5
}
