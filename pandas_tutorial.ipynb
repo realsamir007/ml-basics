{
 "cells": [
  {
   "cell_type": "markdown",
   "id": "74fc5dcf",
   "metadata": {},
   "source": [
    "\n",
    "# Introduction to Pandas\n",
    "\n",
    "**Duration:** 2–3 hours  \n",
    "**Prerequisites:** Python basics  \n",
    "\n",
    "## Learning Objectives\n",
    "- Understand what Pandas is and its key data structures (Series, DataFrame).\n",
    "- Load, inspect, and manipulate datasets.\n",
    "- Perform data cleaning, grouping, merging, time-series analysis, and visualization.\n"
   ]
  },
  {
   "cell_type": "code",
   "execution_count": 1,
   "id": "e05211a2",
   "metadata": {},
   "outputs": [],
   "source": [
    "\n",
    "# Import the pandas library\n",
    "import pandas as pd\n",
    "import numpy as np"
   ]
  },
  {
   "cell_type": "markdown",
   "id": "70ed7443",
   "metadata": {},
   "source": [
    "## 1. Series\n",
    "A Series is a one-dimensional labeled array capable of holding any data type."
   ]
  },
  {
   "cell_type": "code",
   "execution_count": 2,
   "id": "7f350f21",
   "metadata": {},
   "outputs": [
    {
     "name": "stdout",
     "output_type": "stream",
     "text": [
      "a    10.0\n",
      "b    20.0\n",
      "c    30.0\n",
      "d     NaN\n",
      "e    50.0\n",
      "dtype: float64\n"
     ]
    }
   ],
   "source": [
    "\n",
    "# Create a simple Series\n",
    "s = pd.Series([10, 20, 30, np.nan, 50], index=['a', 'b', 'c', 'd', 'e'])\n",
    "print(s)\n"
   ]
  },
  {
   "cell_type": "markdown",
   "id": "ad75e04f",
   "metadata": {},
   "source": [
    "## 2. DataFrame\n",
    "A DataFrame is a two-dimensional tabular data structure with labeled axes (rows and columns)."
   ]
  },
  {
   "cell_type": "code",
   "execution_count": 3,
   "id": "15efba1c",
   "metadata": {},
   "outputs": [
    {
     "data": {
      "text/html": [
       "<div>\n",
       "<style scoped>\n",
       "    .dataframe tbody tr th:only-of-type {\n",
       "        vertical-align: middle;\n",
       "    }\n",
       "\n",
       "    .dataframe tbody tr th {\n",
       "        vertical-align: top;\n",
       "    }\n",
       "\n",
       "    .dataframe thead th {\n",
       "        text-align: right;\n",
       "    }\n",
       "</style>\n",
       "<table border=\"1\" class=\"dataframe\">\n",
       "  <thead>\n",
       "    <tr style=\"text-align: right;\">\n",
       "      <th></th>\n",
       "      <th>Name</th>\n",
       "      <th>Age</th>\n",
       "      <th>City</th>\n",
       "    </tr>\n",
       "  </thead>\n",
       "  <tbody>\n",
       "    <tr>\n",
       "      <th>0</th>\n",
       "      <td>Alice</td>\n",
       "      <td>25</td>\n",
       "      <td>Kathmandu</td>\n",
       "    </tr>\n",
       "    <tr>\n",
       "      <th>1</th>\n",
       "      <td>Bob</td>\n",
       "      <td>30</td>\n",
       "      <td>Pokhara</td>\n",
       "    </tr>\n",
       "    <tr>\n",
       "      <th>2</th>\n",
       "      <td>Charlie</td>\n",
       "      <td>35</td>\n",
       "      <td>Biratnagar</td>\n",
       "    </tr>\n",
       "    <tr>\n",
       "      <th>3</th>\n",
       "      <td>Diana</td>\n",
       "      <td>40</td>\n",
       "      <td>Lalitpur</td>\n",
       "    </tr>\n",
       "  </tbody>\n",
       "</table>\n",
       "</div>"
      ],
      "text/plain": [
       "      Name  Age        City\n",
       "0    Alice   25   Kathmandu\n",
       "1      Bob   30     Pokhara\n",
       "2  Charlie   35  Biratnagar\n",
       "3    Diana   40    Lalitpur"
      ]
     },
     "execution_count": 3,
     "metadata": {},
     "output_type": "execute_result"
    }
   ],
   "source": [
    "\n",
    "# Create a DataFrame from a dictionary\n",
    "data = {\n",
    "    'Name': ['Alice', 'Bob', 'Charlie', 'Diana'],\n",
    "    'Age': [25, 30, 35, 40],\n",
    "    'City': ['Kathmandu', 'Pokhara', 'Biratnagar', 'Lalitpur']\n",
    "}\n",
    "df = pd.DataFrame(data)\n",
    "df\n"
   ]
  },
  {
   "cell_type": "code",
   "execution_count": null,
   "id": "78ba15ce",
   "metadata": {},
   "outputs": [],
   "source": [
    "# For demonstration, save the example DataFrame\n",
    "df.to_csv('example_output.csv', index=False)\n",
    "print(\"Saved example_output.csv\")\n"
   ]
  },
  {
   "cell_type": "markdown",
   "id": "5b621cd3",
   "metadata": {},
   "source": [
    "## 4. Inspecting Data\n",
    "Use these methods to explore your DataFrame."
   ]
  },
  {
   "cell_type": "code",
   "execution_count": null,
   "id": "c061d622",
   "metadata": {},
   "outputs": [],
   "source": [
    "\n",
    "print(df.head())\n",
    "print(df.info())\n",
    "print(df.describe())"
   ]
  },
  {
   "cell_type": "markdown",
   "id": "3184a0e1",
   "metadata": {},
   "source": [
    "## 5. Selection and Filtering"
   ]
  },
  {
   "cell_type": "code",
   "execution_count": null,
   "id": "56d9cd94",
   "metadata": {},
   "outputs": [],
   "source": [
    "\n",
    "# Column selection\n",
    "ages = df['Age']\n",
    "print(ages)\n",
    "\n",
    "# Row selection by label\n",
    "print(df.loc[1])\n",
    "\n",
    "# Boolean indexing\n",
    "adults = df[df['Age'] > 30]\n",
    "print(adults)\n"
   ]
  },
  {
   "cell_type": "markdown",
   "id": "28944858",
   "metadata": {},
   "source": [
    "## 7. Grouping and Aggregation"
   ]
  },
  {
   "cell_type": "code",
   "execution_count": null,
   "id": "f59641f7",
   "metadata": {},
   "outputs": [],
   "source": [
    "\n",
    "# Group by City and count entries\n",
    "grouped = df.groupby('City').size()\n",
    "print(grouped)\n",
    "\n",
    "# Sum ages by city\n",
    "age_sum = df.groupby('City')['Age'].sum()\n",
    "print(age_sum)\n"
   ]
  }
 ],
 "metadata": {
  "kernelspec": {
   "display_name": "base",
   "language": "python",
   "name": "python3"
  },
  "language_info": {
   "codemirror_mode": {
    "name": "ipython",
    "version": 3
   },
   "file_extension": ".py",
   "mimetype": "text/x-python",
   "name": "python",
   "nbconvert_exporter": "python",
   "pygments_lexer": "ipython3",
   "version": "3.11.4"
  }
 },
 "nbformat": 4,
 "nbformat_minor": 5
}
