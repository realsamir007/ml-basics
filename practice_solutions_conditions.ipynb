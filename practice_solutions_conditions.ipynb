{
 "cells": [
  {
   "cell_type": "markdown",
   "id": "e1f240b8",
   "metadata": {},
   "source": [
    "# Solutions: Python Conditional Logic Practice Questions"
   ]
  },
  {
   "cell_type": "markdown",
   "id": "c3b9c5c7",
   "metadata": {},
   "source": [
    "## 1. even_or_odd_plus(n)\n",
    "Return \"Even\" if n is even; \"Odd and Big\" if n is odd and >10; else \"Odd and Small\"."
   ]
  },
  {
   "cell_type": "code",
   "execution_count": null,
   "id": "32ffb4c1",
   "metadata": {},
   "outputs": [],
   "source": [
    "\n",
    "def even_or_odd_plus(n):\n",
    "    if n % 2 == 0:\n",
    "        return \"Even\"\n",
    "    elif n % 2 != 0 and n > 10:\n",
    "        return \"Odd and Big\"\n",
    "    else:\n",
    "        return \"Odd and Small\"\n",
    "\n",
    "# Example tests\n",
    "print(even_or_odd_plus(4))   # Even\n",
    "print(even_or_odd_plus(11))  # Odd and Big\n",
    "print(even_or_odd_plus(7))   # Odd and Small\n"
   ]
  },
  {
   "cell_type": "markdown",
   "id": "c58d95d3",
   "metadata": {},
   "source": [
    "## 2. Leap Year Checker"
   ]
  },
  {
   "cell_type": "code",
   "execution_count": null,
   "id": "3947bb2a",
   "metadata": {},
   "outputs": [],
   "source": [
    "\n",
    "def is_leap_year(year):\n",
    "    return (year % 4 == 0 and year % 100 != 0) or (year % 400 == 0)\n",
    "\n",
    "# Example tests\n",
    "for y in [2000, 1900, 2024, 2023]:\n",
    "    print(y, is_leap_year(y))\n"
   ]
  },
  {
   "cell_type": "markdown",
   "id": "68fc1148",
   "metadata": {},
   "source": [
    "## 3. Grade with +/–"
   ]
  },
  {
   "cell_type": "code",
   "execution_count": null,
   "id": "d46939ea",
   "metadata": {},
   "outputs": [],
   "source": [
    "\n",
    "def assign_grade(score):\n",
    "    if 90 <= score <= 100:\n",
    "        return \"A+\"\n",
    "    elif 85 <= score <= 89:\n",
    "        return \"A\"\n",
    "    elif 80 <= score <= 84:\n",
    "        return \"A-\"\n",
    "    elif 70 <= score <= 79:\n",
    "        return \"B\"\n",
    "    elif 60 <= score <= 69:\n",
    "        return \"C\"\n",
    "    else:\n",
    "        return \"F\"\n",
    "\n",
    "# Example tests\n",
    "print(assign_grade(92))  # A+\n",
    "print(assign_grade(87))  # A\n",
    "print(assign_grade(73))  # B\n"
   ]
  },
  {
   "cell_type": "markdown",
   "id": "9af8c622",
   "metadata": {},
   "source": [
    "## 4. Password Strength Checker"
   ]
  },
  {
   "cell_type": "code",
   "execution_count": null,
   "id": "a7af4d2e",
   "metadata": {},
   "outputs": [],
   "source": [
    "\n",
    "import string\n",
    "\n",
    "def check_password(pw):\n",
    "    if len(pw) < 8:\n",
    "        return \"Rejected: Too Short\"\n",
    "    if not any(char.isdigit() for char in pw):\n",
    "        return \"Needs Digit\"\n",
    "    if not any(char.isupper() for char in pw):\n",
    "        return \"Needs Uppercase\"\n",
    "    return \"Strong Password\"\n",
    "\n",
    "# Example tests\n",
    "print(check_password(\"Pass1\"))      # Too Short\n",
    "print(check_password(\"password1\"))  # Needs Uppercase\n",
    "print(check_password(\"Password\"))   # Needs Digit\n",
    "print(check_password(\"Passw0rd\"))   # Strong Password\n"
   ]
  },
  {
   "cell_type": "markdown",
   "id": "3ef7686c",
   "metadata": {},
   "source": [
    "## 5. Triangle Type"
   ]
  },
  {
   "cell_type": "code",
   "execution_count": null,
   "id": "897d5493",
   "metadata": {},
   "outputs": [],
   "source": [
    "\n",
    "def triangle_type(a, b, c):\n",
    "    sides = sorted([a, b, c])\n",
    "    if sides[0] + sides[1] <= sides[2]:\n",
    "        return \"Not a triangle\"\n",
    "    if a == b == c:\n",
    "        return \"Equilateral\"\n",
    "    if a == b or b == c or a == c:\n",
    "        return \"Isosceles\"\n",
    "    return \"Scalene\"\n",
    "\n",
    "# Example tests\n",
    "print(triangle_type(3, 4, 5))  # Scalene\n",
    "print(triangle_type(2, 2, 2))  # Equilateral\n",
    "print(triangle_type(2, 2, 3))  # Isosceles\n",
    "print(triangle_type(1, 2, 3))  # Not a triangle\n"
   ]
  },
  {
   "cell_type": "markdown",
   "id": "58fb05c8",
   "metadata": {},
   "source": [
    "## 6. Shopping Discount"
   ]
  },
  {
   "cell_type": "code",
   "execution_count": null,
   "id": "9cf85f9f",
   "metadata": {},
   "outputs": [],
   "source": [
    "\n",
    "def final_price(amount):\n",
    "    if amount >= 200:\n",
    "        discount = 0.20\n",
    "    elif 100 <= amount < 200:\n",
    "        discount = 0.10\n",
    "    else:\n",
    "        discount = 0.0\n",
    "    return amount * (1 - discount)\n",
    "\n",
    "# Example tests\n",
    "print(final_price(250))  # 200.0\n",
    "print(final_price(150))  # 135.0\n",
    "print(final_price(50))   # 50.0\n"
   ]
  },
  {
   "cell_type": "markdown",
   "id": "9914e187",
   "metadata": {},
   "source": [
    "## 7. Number Guessing Hint"
   ]
  },
  {
   "cell_type": "code",
   "execution_count": null,
   "id": "135aedf0",
   "metadata": {},
   "outputs": [],
   "source": [
    "\n",
    "def guess_hint(secret, guess):\n",
    "    if guess == secret:\n",
    "        return \"Correct!\"\n",
    "    diff = abs(guess - secret)\n",
    "    if diff <= 2:\n",
    "        return \"Very close!\"\n",
    "    if diff <= 5:\n",
    "        return \"Close\"\n",
    "    return \"Try again\"\n",
    "\n",
    "# Example tests\n",
    "print(guess_hint(30, 30))  # Correct!\n",
    "print(guess_hint(30, 29))  # Very close!\n",
    "print(guess_hint(30, 26))  # Close\n",
    "print(guess_hint(30, 10))  # Try again\n"
   ]
  },
  {
   "cell_type": "markdown",
   "id": "e508b24a",
   "metadata": {},
   "source": [
    "## 8. Vowel or Consonant"
   ]
  },
  {
   "cell_type": "code",
   "execution_count": null,
   "id": "670b0e52",
   "metadata": {},
   "outputs": [],
   "source": [
    "\n",
    "def check_letter(ch):\n",
    "    if len(ch) != 1 or not ch.isalpha():\n",
    "        return \"Invalid input\"\n",
    "    if ch.lower() in \"aeiou\":\n",
    "        return \"Vowel\"\n",
    "    return \"Consonant\"\n",
    "\n",
    "# Example tests\n",
    "print(check_letter(\"a\"))  # Vowel\n",
    "print(check_letter(\"B\"))  # Consonant\n",
    "print(check_letter(\"1\"))  # Invalid input\n"
   ]
  },
  {
   "cell_type": "markdown",
   "id": "41c6c75a",
   "metadata": {},
   "source": [
    "## 9. Weekend or Weekday"
   ]
  },
  {
   "cell_type": "code",
   "execution_count": null,
   "id": "b2e8691c",
   "metadata": {},
   "outputs": [],
   "source": [
    "\n",
    "def day_type(day):\n",
    "    days = day.strip().lower()\n",
    "    weekdays = [\"monday\",\"tuesday\",\"wednesday\",\"thursday\",\"friday\"]\n",
    "    weekends = [\"saturday\",\"sunday\"]\n",
    "    if days in weekends:\n",
    "        return \"Weekend\"\n",
    "    if days in weekdays:\n",
    "        return \"Weekday\"\n",
    "    return \"Invalid day\"\n",
    "\n",
    "# Example tests\n",
    "print(day_type(\"Monday\"))    # Weekday\n",
    "print(day_type(\"sunday\"))    # Weekend\n",
    "print(day_type(\"Funday\"))    # Invalid day\n"
   ]
  },
  {
   "cell_type": "markdown",
   "id": "e965fa0d",
   "metadata": {},
   "source": [
    "## 10. Simple ATM"
   ]
  },
  {
   "cell_type": "code",
   "execution_count": null,
   "id": "030e5707",
   "metadata": {},
   "outputs": [],
   "source": [
    "\n",
    "def atm_withdraw(balance, amount):\n",
    "    if amount > balance:\n",
    "        return \"Insufficient funds\"\n",
    "    if amount % 10 != 0:\n",
    "        return \"Enter multiples of $10 only\"\n",
    "    balance -= amount\n",
    "    return f\"Withdrawal successful. New balance: ${balance}\"\n",
    "\n",
    "# Example tests\n",
    "print(atm_withdraw(1000, 120))  # Success\n",
    "print(atm_withdraw(1000, 25))   # Multiple error\n",
    "print(atm_withdraw(100, 200))   # Insufficient funds\n"
   ]
  },
  {
   "cell_type": "code",
   "execution_count": null,
   "id": "8dbd6c01",
   "metadata": {},
   "outputs": [],
   "source": []
  }
 ],
 "metadata": {
  "kernelspec": {
   "display_name": "base",
   "language": "python",
   "name": "python3"
  },
  "language_info": {
   "codemirror_mode": {
    "name": "ipython",
    "version": 3
   },
   "file_extension": ".py",
   "mimetype": "text/x-python",
   "name": "python",
   "nbconvert_exporter": "python",
   "pygments_lexer": "ipython3",
   "version": "3.11.4"
  }
 },
 "nbformat": 4,
 "nbformat_minor": 5
}
