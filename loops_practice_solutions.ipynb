{
 "cells": [
  {
   "cell_type": "markdown",
   "id": "deb9eeba",
   "metadata": {},
   "source": [
    "# Solutions: Python Loop Practice Questions"
   ]
  },
  {
   "cell_type": "markdown",
   "id": "68e73e76",
   "metadata": {},
   "source": [
    "## 1. Squares of Numbers 1–10"
   ]
  },
  {
   "cell_type": "code",
   "execution_count": 1,
   "id": "d1ebd91f",
   "metadata": {},
   "outputs": [
    {
     "name": "stdout",
     "output_type": "stream",
     "text": [
      "1 squared is 1\n",
      "2 squared is 4\n",
      "3 squared is 9\n",
      "4 squared is 16\n",
      "5 squared is 25\n",
      "6 squared is 36\n",
      "7 squared is 49\n",
      "8 squared is 64\n",
      "9 squared is 81\n",
      "10 squared is 100\n"
     ]
    }
   ],
   "source": [
    "# Print squares of numbers from 1 to 10\n",
    "for i in range(1, 11):\n",
    "    print(i, \"squared is\", i**2)"
   ]
  },
  {
   "cell_type": "markdown",
   "id": "fff9aa9f",
   "metadata": {},
   "source": [
    "## 2. Factorial Using a `while` Loop"
   ]
  },
  {
   "cell_type": "code",
   "execution_count": 2,
   "id": "64334181",
   "metadata": {},
   "outputs": [
    {
     "name": "stdout",
     "output_type": "stream",
     "text": [
      "120\n"
     ]
    }
   ],
   "source": [
    "# Compute factorial of a positive integer n using while loop\n",
    "def factorial(n):\n",
    "    result = 1\n",
    "    i = 1\n",
    "    while i <= n:\n",
    "        result *= i\n",
    "        i += 1\n",
    "    return result\n",
    "\n",
    "# Example\n",
    "print(factorial(5))  # 120"
   ]
  },
  {
   "cell_type": "markdown",
   "id": "2bce16d1",
   "metadata": {},
   "source": [
    "## 3. Filter Even Numbers from a List"
   ]
  },
  {
   "cell_type": "code",
   "execution_count": 3,
   "id": "c9c2c0b7",
   "metadata": {},
   "outputs": [
    {
     "name": "stdout",
     "output_type": "stream",
     "text": [
      "[4, 8, 10, 16]\n"
     ]
    }
   ],
   "source": [
    "# Given a list of numbers, create a new list with only evens\n",
    "nums = [1, 4, 7, 8, 10, 13, 16]\n",
    "evens = []\n",
    "for num in nums:\n",
    "    if num % 2 == 0:\n",
    "        evens.append(num)\n",
    "print(evens)  # [4, 8, 10, 16]"
   ]
  },
  {
   "cell_type": "markdown",
   "id": "650a9f24",
   "metadata": {},
   "source": [
    "## 4. FizzBuzz (1–50)"
   ]
  },
  {
   "cell_type": "code",
   "execution_count": 4,
   "id": "d16eba29",
   "metadata": {},
   "outputs": [
    {
     "name": "stdout",
     "output_type": "stream",
     "text": [
      "1\n",
      "2\n",
      "Fizz\n",
      "4\n",
      "Buzz\n",
      "Fizz\n",
      "7\n",
      "8\n",
      "Fizz\n",
      "Buzz\n",
      "11\n",
      "Fizz\n",
      "13\n",
      "14\n",
      "FizzBuzz\n",
      "16\n",
      "17\n",
      "Fizz\n",
      "19\n",
      "Buzz\n",
      "Fizz\n",
      "22\n",
      "23\n",
      "Fizz\n",
      "Buzz\n",
      "26\n",
      "Fizz\n",
      "28\n",
      "29\n",
      "FizzBuzz\n",
      "31\n",
      "32\n",
      "Fizz\n",
      "34\n",
      "Buzz\n",
      "Fizz\n",
      "37\n",
      "38\n",
      "Fizz\n",
      "Buzz\n",
      "41\n",
      "Fizz\n",
      "43\n",
      "44\n",
      "FizzBuzz\n",
      "46\n",
      "47\n",
      "Fizz\n",
      "49\n",
      "Buzz\n"
     ]
    }
   ],
   "source": [
    "# FizzBuzz implementation\n",
    "for i in range(1, 51):\n",
    "    if i % 15 == 0:\n",
    "        print(\"FizzBuzz\")\n",
    "    elif i % 3 == 0:\n",
    "        print(\"Fizz\")\n",
    "    elif i % 5 == 0:\n",
    "        print(\"Buzz\")\n",
    "    else:\n",
    "        print(i)"
   ]
  },
  {
   "cell_type": "markdown",
   "id": "d095aa10",
   "metadata": {},
   "source": [
    "## 5. Multiplication Table in a Dictionary"
   ]
  },
  {
   "cell_type": "code",
   "execution_count": 5,
   "id": "920be8e3",
   "metadata": {},
   "outputs": [
    {
     "name": "stdout",
     "output_type": "stream",
     "text": [
      "(1, 1) -> 1\n",
      "(1, 2) -> 2\n",
      "(1, 3) -> 3\n",
      "(1, 4) -> 4\n",
      "(1, 5) -> 5\n",
      "(1, 6) -> 6\n",
      "(1, 7) -> 7\n",
      "(1, 8) -> 8\n",
      "(1, 9) -> 9\n",
      "(1, 10) -> 10\n"
     ]
    }
   ],
   "source": [
    "# Generate multiplication table (1–10) as a dict\n",
    "table = {}\n",
    "for i in range(1, 11):\n",
    "    for j in range(1, 11):\n",
    "        \n",
    "        table[(i, j)] = i * j\n",
    "\n",
    "# Print some entries\n",
    "for key in list(table)[:10]:\n",
    "    print(key, \"->\", table[key])"
   ]
  },
  {
   "cell_type": "code",
   "execution_count": 12,
   "id": "d8a01f78",
   "metadata": {},
   "outputs": [
    {
     "name": "stdout",
     "output_type": "stream",
     "text": [
      "1 * 1 = 1\n",
      "1 * 2 = 2\n",
      "1 * 3 = 3\n",
      "1 * 4 = 4\n",
      "1 * 5 = 5\n",
      "1 * 6 = 6\n",
      "1 * 7 = 7\n",
      "1 * 8 = 8\n",
      "1 * 9 = 9\n",
      "1 * 10 = 10\n",
      "2 * 1 = 2\n",
      "2 * 2 = 4\n",
      "2 * 3 = 6\n",
      "2 * 4 = 8\n",
      "2 * 5 = 10\n",
      "2 * 6 = 12\n",
      "2 * 7 = 14\n",
      "2 * 8 = 16\n",
      "2 * 9 = 18\n",
      "2 * 10 = 20\n"
     ]
    }
   ],
   "source": [
    "for i in range(1,3):\n",
    "    for j in range(1,11):\n",
    "        print(f'{i} * {j} = {i*j}')\n"
   ]
  },
  {
   "cell_type": "markdown",
   "id": "cb084443",
   "metadata": {},
   "source": [
    "## 6. Count Inputs Until 'exit'"
   ]
  },
  {
   "cell_type": "code",
   "execution_count": 13,
   "id": "edd5f66f",
   "metadata": {},
   "outputs": [
    {
     "name": "stdout",
     "output_type": "stream",
     "text": [
      "Total inputs entered: 12\n"
     ]
    }
   ],
   "source": [
    "# Read inputs until 'exit' and count entries\n",
    "count = 0\n",
    "while True:\n",
    "    s = input(\"Enter something (or 'exit' to stop): \")\n",
    "    if s.lower() == 'exit':\n",
    "        break\n",
    "    count += 1\n",
    "print(\"Total inputs entered:\", count)"
   ]
  },
  {
   "cell_type": "markdown",
   "id": "750f0f68",
   "metadata": {},
   "source": [
    "## 7. Enumerate List Elements"
   ]
  },
  {
   "cell_type": "code",
   "execution_count": 8,
   "id": "4ae86471",
   "metadata": {},
   "outputs": [
    {
     "name": "stdout",
     "output_type": "stream",
     "text": [
      "1 a\n",
      "2 b\n",
      "3 c\n",
      "4 d\n"
     ]
    }
   ],
   "source": [
    "# Print index and value for ['a','b','c','d']\n",
    "for idx, val in enumerate(['a', 'b', 'c', 'd'], start=1):\n",
    "    print(idx, val)"
   ]
  },
  {
   "cell_type": "markdown",
   "id": "84e34e99",
   "metadata": {},
   "source": [
    "## 8. Iterate Two Lists with `zip()`"
   ]
  },
  {
   "cell_type": "code",
   "execution_count": 9,
   "id": "490d2f49",
   "metadata": {},
   "outputs": [
    {
     "name": "stdout",
     "output_type": "stream",
     "text": [
      "Item from list1: apple, Item from list2: 1\n",
      "Item from list1: banana, Item from list2: 2\n",
      "Item from list1: cherry, Item from list2: 3\n"
     ]
    }
   ],
   "source": [
    "# Given two lists of equal length\n",
    "list1 = ['apple', 'banana', 'cherry']\n",
    "list2 = [1, 2, 3]\n",
    "for x, y in zip(list1, list2):\n",
    "    print(f\"Item from list1: {x}, Item from list2: {y}\")"
   ]
  },
  {
   "cell_type": "code",
   "execution_count": null,
   "id": "87a36994",
   "metadata": {},
   "outputs": [
    {
     "name": "stdout",
     "output_type": "stream",
     "text": [
      "[('apple', 1), ('banana', 2), ('cherry', 3)]\n"
     ]
    }
   ],
   "source": [
    "# Given two lists of equal length\n",
    "list1 = ['apple', 'banana', 'cherry']\n",
    "list2 = [1, 2, 3]\n",
    "\n",
    "list3 = zip(list1, list2)\n",
    "print(list(list3))"
   ]
  },
  {
   "cell_type": "markdown",
   "id": "62ba7459",
   "metadata": {},
   "source": [
    "## 9. First Prime Number Greater Than 50"
   ]
  },
  {
   "cell_type": "code",
   "execution_count": 10,
   "id": "16c78b72",
   "metadata": {},
   "outputs": [
    {
     "name": "stdout",
     "output_type": "stream",
     "text": [
      "First prime > 50 is 97\n"
     ]
    }
   ],
   "source": [
    "# Find first prime number greater than 50\n",
    "def is_prime(n):\n",
    "    if n < 2:\n",
    "        return False\n",
    "    for i in range(2, int(n**0.5) + 1):\n",
    "        if n % i == 0:\n",
    "            return False\n",
    "    return True\n",
    "\n",
    "num = 96\n",
    "while True:\n",
    "    if is_prime(num):\n",
    "        print(\"First prime > 50 is\", num)\n",
    "        break\n",
    "    num += 1"
   ]
  },
  {
   "cell_type": "markdown",
   "id": "e0923396",
   "metadata": {},
   "source": [
    "## 10. Custom `my_range` Generator"
   ]
  },
  {
   "cell_type": "code",
   "execution_count": 11,
   "id": "24d938af",
   "metadata": {},
   "outputs": [
    {
     "name": "stdout",
     "output_type": "stream",
     "text": [
      "0\n",
      "2\n",
      "4\n",
      "6\n",
      "8\n"
     ]
    }
   ],
   "source": [
    "# Implement custom range generator\n",
    "def my_range(start, stop, step=1):\n",
    "    i = start\n",
    "    if step > 0:\n",
    "        while i < stop:\n",
    "            yield i\n",
    "            i += step\n",
    "    else:\n",
    "        while i > stop:\n",
    "            yield i\n",
    "            i += step\n",
    "\n",
    "# Example usage\n",
    "for i in my_range(0, 10, 2):\n",
    "    print(i)"
   ]
  }
 ],
 "metadata": {
  "kernelspec": {
   "display_name": "base",
   "language": "python",
   "name": "python3"
  },
  "language_info": {
   "codemirror_mode": {
    "name": "ipython",
    "version": 3
   },
   "file_extension": ".py",
   "mimetype": "text/x-python",
   "name": "python",
   "nbconvert_exporter": "python",
   "pygments_lexer": "ipython3",
   "version": "3.11.4"
  }
 },
 "nbformat": 4,
 "nbformat_minor": 5
}
