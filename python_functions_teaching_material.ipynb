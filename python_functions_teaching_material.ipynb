{
 "cells": [
  {
   "cell_type": "markdown",
   "id": "30c4025d",
   "metadata": {},
   "source": [
    "# Python Functions Teaching Material\n",
    "\n",
    "This notebook covers Python functions, including definitions, usage, and exercises."
   ]
  },
  {
   "cell_type": "markdown",
   "id": "f6d3e230",
   "metadata": {},
   "source": [
    "## 1. Understanding Functions\n",
    "\n",
    "A function in Python is a block of organized, reusable code that performs a single, related action.\n",
    "\n",
    "**Benefits:**\n",
    "- Avoid repetition (DRY principle)\n",
    "- Easier to test and maintain\n",
    "- Modular code for collaboration"
   ]
  },
  {
   "cell_type": "markdown",
   "id": "253a36ce",
   "metadata": {},
   "source": [
    "## 2. Defining and Calling Functions\n",
    "\n",
    "**Syntax:**\n",
    "```python\n",
    "def greet(name):\n",
    "    print(f\"Hello, {name}!\")\n",
    "```\n",
    "\n",
    "**Naming Conventions:** Lowercase with underscores (e.g., `calculate_area`).\n",
    "\n",
    "**Parameters vs. Arguments:**"
   ]
  },
  {
   "cell_type": "code",
   "execution_count": 1,
   "id": "fd6b7a39",
   "metadata": {},
   "outputs": [
    {
     "name": "stdout",
     "output_type": "stream",
     "text": [
      "Hello, Alice!\n"
     ]
    }
   ],
   "source": [
    "def greet(name):\n",
    "    print(f\"Hello, {name}!\")\n",
    "\n",
    "greet('Alice')"
   ]
  },
  {
   "cell_type": "code",
   "execution_count": 2,
   "id": "637acf69",
   "metadata": {},
   "outputs": [
    {
     "name": "stdout",
     "output_type": "stream",
     "text": [
      "8\n"
     ]
    }
   ],
   "source": [
    "# Parameters vs. Arguments\n",
    "def add(x, y):\n",
    "    return x + y\n",
    "\n",
    "result = add(3, 5)\n",
    "print(result)"
   ]
  },
  {
   "cell_type": "markdown",
   "id": "be8dfb48",
   "metadata": {},
   "source": [
    "## 3. Return Values\n",
    "\n",
    "Functions can return values using `return`. If omitted, returns `None`."
   ]
  },
  {
   "cell_type": "code",
   "execution_count": 3,
   "id": "2670dd6e",
   "metadata": {},
   "outputs": [
    {
     "name": "stdout",
     "output_type": "stream",
     "text": [
      "16\n"
     ]
    }
   ],
   "source": [
    "def square(n):\n",
    "    return n * n\n",
    "\n",
    "print(square(4))"
   ]
  },
  {
   "cell_type": "markdown",
   "id": "2e9ee652",
   "metadata": {},
   "source": [
    "## 4. Docstrings and Documentation\n",
    "\n",
    "Docstrings document functions. Follow PEP 257:\n",
    "- Triple quotes\n",
    "- First line summary\n",
    "- Blank line then details"
   ]
  },
  {
   "cell_type": "code",
   "execution_count": 4,
   "id": "261d917d",
   "metadata": {},
   "outputs": [
    {
     "name": "stdout",
     "output_type": "stream",
     "text": [
      "Help on function greet in module __main__:\n",
      "\n",
      "greet(name)\n",
      "    Greet the user by name.\n",
      "    \n",
      "    Parameters:\n",
      "        name (str): The name of the user.\n",
      "    \n",
      "    Returns:\n",
      "        None\n",
      "\n"
     ]
    }
   ],
   "source": [
    "def greet(name):\n",
    "    \"\"\"\n",
    "    Greet the user by name.\n",
    "\n",
    "    Parameters:\n",
    "        name (str): The name of the user.\n",
    "\n",
    "    Returns:\n",
    "        None\n",
    "    \"\"\"\n",
    "    print(f\"Hello, {name}!\")\n",
    "\n",
    "help(greet)"
   ]
  },
  {
   "cell_type": "markdown",
   "id": "bef00e43",
   "metadata": {},
   "source": [
    "## 5. Scope of Variables\n",
    "\n",
    "Local vs Global. Python resolves names using the LEGB rule (Local, Enclosing, Global, Built-in)."
   ]
  },
  {
   "cell_type": "code",
   "execution_count": 5,
   "id": "933459a1",
   "metadata": {},
   "outputs": [
    {
     "name": "stdout",
     "output_type": "stream",
     "text": [
      "local x\n",
      "global x\n"
     ]
    }
   ],
   "source": [
    "# Example of local vs global\n",
    "x = 'global x'\n",
    "\n",
    "def func():\n",
    "    x = 'local x'\n",
    "    print(x)\n",
    "\n",
    "func()\n",
    "print(x)"
   ]
  },
  {
   "cell_type": "markdown",
   "id": "9599540f",
   "metadata": {},
   "source": [
    "## 6. Advanced Topics\n",
    "\n",
    "### 6.1 First-Class Functions\n",
    "Python treats functions as first-class objects: they can be passed around and returned.\n",
    "\n",
    "### 6.2 Lambda Functions\n",
    "Anonymous functions defined with `lambda`."
   ]
  },
  {
   "cell_type": "code",
   "execution_count": 6,
   "id": "17c168f4",
   "metadata": {},
   "outputs": [
    {
     "name": "stdout",
     "output_type": "stream",
     "text": [
      "10\n"
     ]
    }
   ],
   "source": [
    "double = lambda x: x * 2\n",
    "print(double(5))"
   ]
  }
 ],
 "metadata": {
  "kernelspec": {
   "display_name": "base",
   "language": "python",
   "name": "python3"
  },
  "language_info": {
   "codemirror_mode": {
    "name": "ipython",
    "version": 3
   },
   "file_extension": ".py",
   "mimetype": "text/x-python",
   "name": "python",
   "nbconvert_exporter": "python",
   "pygments_lexer": "ipython3",
   "version": "3.11.4"
  }
 },
 "nbformat": 4,
 "nbformat_minor": 5
}
