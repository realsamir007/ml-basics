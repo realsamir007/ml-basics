{
 "cells": [
  {
   "cell_type": "markdown",
   "id": "52a288fb",
   "metadata": {},
   "source": [
    "# 🏦 Basic Banking System in Python\n",
    "\n",
    "This notebook demonstrates a simple banking system using functions, dictionaries, and loops."
   ]
  },
  {
   "cell_type": "markdown",
   "id": "c456bec8",
   "metadata": {},
   "source": [
    "## Problem Statement\n",
    "Create a basic banking system where users can:\n",
    "- Create an account\n",
    "- Check balance\n",
    "- Deposit money\n",
    "- Withdraw money\n",
    "- Exit the system\n",
    "\n",
    "Each account is stored in a dictionary with the account holder’s name as the key and balance as the value."
   ]
  },
  {
   "cell_type": "code",
   "execution_count": 1,
   "id": "25da3d5e",
   "metadata": {},
   "outputs": [],
   "source": [
    "# Initialize account storage\n",
    "accounts = {}\n",
    "\n",
    "# Function to create a new account\n",
    "def create_account(name):\n",
    "    if name in accounts:\n",
    "        print(\"Account already exists.\")\n",
    "    else:\n",
    "        accounts[name] = 0.0\n",
    "        print(f\"Account created for {name}.\")\n",
    "\n",
    "# Function to check balance\n",
    "def check_balance(name):\n",
    "    if name in accounts:\n",
    "        print(f\"Current balance for {name}: ${accounts[name]:.2f}\")\n",
    "    else:\n",
    "        print(\"Account does not exist.\")\n",
    "\n",
    "# Function to deposit money\n",
    "def deposit(name, amount):\n",
    "    if name in accounts:\n",
    "        accounts[name] += amount\n",
    "        print(f\"Deposited ${amount}. New balance: ${accounts[name]:.2f}\")\n",
    "    else:\n",
    "        print(\"Account does not exist.\")\n",
    "\n",
    "# Function to withdraw money\n",
    "def withdraw(name, amount):\n",
    "    if name in accounts:\n",
    "        if accounts[name] >= amount:\n",
    "            accounts[name] -= amount\n",
    "            print(f\"Withdrawn ${amount}. New balance: ${accounts[name]:.2f}\")\n",
    "        else:\n",
    "            print(\"Insufficient funds.\")\n",
    "    else:\n",
    "        print(\"Account does not exist.\")"
   ]
  },
  {
   "cell_type": "code",
   "execution_count": 2,
   "id": "71b60450",
   "metadata": {},
   "outputs": [
    {
     "name": "stdout",
     "output_type": "stream",
     "text": [
      "\n",
      "1. Create Account\n",
      "2. Check Balance\n",
      "3. Deposit\n",
      "4. Withdraw\n",
      "5. Exit\n",
      "Account created for Sameer.\n",
      "\n",
      "1. Create Account\n",
      "2. Check Balance\n",
      "3. Deposit\n",
      "4. Withdraw\n",
      "5. Exit\n",
      "Current balance for Sameer: $0.00\n",
      "\n",
      "1. Create Account\n",
      "2. Check Balance\n",
      "3. Deposit\n",
      "4. Withdraw\n",
      "5. Exit\n",
      "Thank you for using Simple Bank!\n"
     ]
    }
   ],
   "source": [
    "# Menu-driven interface\n",
    "while True:\n",
    "    print(\"\\n1. Create Account\")\n",
    "    print(\"2. Check Balance\")\n",
    "    print(\"3. Deposit\")\n",
    "    print(\"4. Withdraw\")\n",
    "    print(\"5. Exit\")\n",
    "    choice = input(\"Enter your choice: \")\n",
    "\n",
    "    if choice == '1':\n",
    "        name = input(\"Enter account holder name: \")\n",
    "        create_account(name)\n",
    "    elif choice == '2':\n",
    "        name = input(\"Enter account holder name: \")\n",
    "        check_balance(name)\n",
    "    elif choice == '3':\n",
    "        name = input(\"Enter account holder name: \")\n",
    "        amount = float(input(\"Enter amount to deposit: \"))\n",
    "        deposit(name, amount)\n",
    "    elif choice == '4':\n",
    "        name = input(\"Enter account holder name: \")\n",
    "        amount = float(input(\"Enter amount to withdraw: \"))\n",
    "        withdraw(name, amount)\n",
    "    elif choice == '5':\n",
    "        print(\"Thank you for using Simple Bank!\")\n",
    "        break\n",
    "    else:\n",
    "        print(\"Invalid choice. Please try again.\")"
   ]
  }
 ],
 "metadata": {
  "kernelspec": {
   "display_name": "base",
   "language": "python",
   "name": "python3"
  },
  "language_info": {
   "codemirror_mode": {
    "name": "ipython",
    "version": 3
   },
   "file_extension": ".py",
   "mimetype": "text/x-python",
   "name": "python",
   "nbconvert_exporter": "python",
   "pygments_lexer": "ipython3",
   "version": "3.11.4"
  }
 },
 "nbformat": 4,
 "nbformat_minor": 5
}
