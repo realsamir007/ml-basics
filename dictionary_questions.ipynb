{
 "cells": [
  {
   "cell_type": "markdown",
   "id": "9ebbd692",
   "metadata": {},
   "source": [
    "### Create a dictionary with keys 'name', 'age', and 'city', and assign them appropriate values."
   ]
  },
  {
   "cell_type": "code",
   "execution_count": 2,
   "id": "e1760475",
   "metadata": {},
   "outputs": [
    {
     "data": {
      "text/plain": [
       "{'name': 'Alice', 'age': 25, 'city': 'Toronto'}"
      ]
     },
     "execution_count": 2,
     "metadata": {},
     "output_type": "execute_result"
    }
   ],
   "source": [
    "person = {'name': 'Alice', 'age': 25, 'city': 'Toronto'}\n",
    "person"
   ]
  },
  {
   "cell_type": "markdown",
   "id": "6288c1f7",
   "metadata": {},
   "source": [
    "### Access the value associated with the key 'age' in a dictionary."
   ]
  },
  {
   "cell_type": "code",
   "execution_count": 3,
   "id": "fe139177",
   "metadata": {},
   "outputs": [
    {
     "data": {
      "text/plain": [
       "25"
      ]
     },
     "execution_count": 3,
     "metadata": {},
     "output_type": "execute_result"
    }
   ],
   "source": [
    "person = {'name': 'Alice', 'age': 25, 'city': 'Toronto'}\n",
    "age = person['age']\n",
    "age"
   ]
  },
  {
   "cell_type": "markdown",
   "id": "c1c4a5d4",
   "metadata": {},
   "source": [
    "### Add a new key 'email' to the dictionary with any value."
   ]
  },
  {
   "cell_type": "code",
   "execution_count": 4,
   "id": "9ad44052",
   "metadata": {},
   "outputs": [
    {
     "data": {
      "text/plain": [
       "{'name': 'Alice', 'age': 25, 'city': 'Toronto', 'email': 'alice@example.com'}"
      ]
     },
     "execution_count": 4,
     "metadata": {},
     "output_type": "execute_result"
    }
   ],
   "source": [
    "person = {'name': 'Alice', 'age': 25, 'city': 'Toronto'}\n",
    "person['email'] = 'alice@example.com'\n",
    "person"
   ]
  },
  {
   "cell_type": "markdown",
   "id": "ca2e74e7",
   "metadata": {},
   "source": [
    "### Update the value of the key 'city' in a dictionary."
   ]
  },
  {
   "cell_type": "code",
   "execution_count": 5,
   "id": "a251996b",
   "metadata": {},
   "outputs": [
    {
     "data": {
      "text/plain": [
       "{'name': 'Alice', 'age': 25, 'city': 'Vancouver'}"
      ]
     },
     "execution_count": 5,
     "metadata": {},
     "output_type": "execute_result"
    }
   ],
   "source": [
    "person = {'name': 'Alice', 'age': 25, 'city': 'Toronto'}\n",
    "person['city'] = 'Vancouver'\n",
    "person"
   ]
  },
  {
   "cell_type": "markdown",
   "id": "0cce5d91",
   "metadata": {},
   "source": [
    "### Remove the key 'email' from the dictionary."
   ]
  },
  {
   "cell_type": "code",
   "execution_count": 6,
   "id": "4b4c8c9b",
   "metadata": {},
   "outputs": [
    {
     "data": {
      "text/plain": [
       "{'name': 'Alice', 'age': 25, 'city': 'Toronto'}"
      ]
     },
     "execution_count": 6,
     "metadata": {},
     "output_type": "execute_result"
    }
   ],
   "source": [
    "person = {'name': 'Alice', 'age': 25, 'city': 'Toronto', 'email': 'alice@example.com'}\n",
    "person.pop('email')\n",
    "person"
   ]
  },
  {
   "cell_type": "markdown",
   "id": "eb4e4ebd",
   "metadata": {},
   "source": [
    "### Check if a key 'name' exists in a dictionary."
   ]
  },
  {
   "cell_type": "code",
   "execution_count": 7,
   "id": "161f6e1a",
   "metadata": {},
   "outputs": [
    {
     "data": {
      "text/plain": [
       "True"
      ]
     },
     "execution_count": 7,
     "metadata": {},
     "output_type": "execute_result"
    }
   ],
   "source": [
    "person = {'name': 'Alice', 'age': 25, 'city': 'Toronto'}\n",
    "'name' in person"
   ]
  },
  {
   "cell_type": "markdown",
   "id": "e60975ce",
   "metadata": {},
   "source": [
    "### Get a list of all keys from a dictionary."
   ]
  },
  {
   "cell_type": "code",
   "execution_count": 8,
   "id": "058bb89d",
   "metadata": {},
   "outputs": [
    {
     "data": {
      "text/plain": [
       "['name', 'age', 'city']"
      ]
     },
     "execution_count": 8,
     "metadata": {},
     "output_type": "execute_result"
    }
   ],
   "source": [
    "person = {'name': 'Alice', 'age': 25, 'city': 'Toronto'}\n",
    "list(person.keys())"
   ]
  },
  {
   "cell_type": "markdown",
   "id": "32839b23",
   "metadata": {},
   "source": [
    "### Get a list of all values from a dictionary."
   ]
  },
  {
   "cell_type": "code",
   "execution_count": 9,
   "id": "dd6f9c29",
   "metadata": {},
   "outputs": [
    {
     "data": {
      "text/plain": [
       "['Alice', 25, 'Toronto']"
      ]
     },
     "execution_count": 9,
     "metadata": {},
     "output_type": "execute_result"
    }
   ],
   "source": [
    "person = {'name': 'Alice', 'age': 25, 'city': 'Toronto'}\n",
    "list(person.values())"
   ]
  },
  {
   "cell_type": "markdown",
   "id": "e2610573",
   "metadata": {},
   "source": [
    "### Merge two dictionaries into one."
   ]
  },
  {
   "cell_type": "code",
   "execution_count": 10,
   "id": "568b7bf8",
   "metadata": {},
   "outputs": [
    {
     "data": {
      "text/plain": [
       "{'a': 1, 'b': 2, 'c': 3, 'd': 4}"
      ]
     },
     "execution_count": 10,
     "metadata": {},
     "output_type": "execute_result"
    }
   ],
   "source": [
    "dict1 = {'a': 1, 'b': 2}\n",
    "dict2 = {'c': 3, 'd': 4}\n",
    "dict1.update(dict2)\n",
    "dict1"
   ]
  },
  {
   "cell_type": "markdown",
   "id": "95702c64",
   "metadata": {},
   "source": [
    "### Create a dictionary from two lists: one of keys and one of values."
   ]
  },
  {
   "cell_type": "code",
   "execution_count": 11,
   "id": "73d723e9",
   "metadata": {},
   "outputs": [
    {
     "data": {
      "text/plain": [
       "{'name': 'Alice', 'age': 25, 'city': 'Toronto'}"
      ]
     },
     "execution_count": 11,
     "metadata": {},
     "output_type": "execute_result"
    }
   ],
   "source": [
    "keys = ['name', 'age', 'city']\n",
    "values = ['Alice', 25, 'Toronto']\n",
    "person = dict(zip(keys, values))\n",
    "person"
   ]
  },
  {
   "cell_type": "markdown",
   "id": "5185c363",
   "metadata": {},
   "source": [
    "### Use the get() method to safely access a key that might not exist."
   ]
  },
  {
   "cell_type": "code",
   "execution_count": 12,
   "id": "47d2b0cd",
   "metadata": {},
   "outputs": [
    {
     "data": {
      "text/plain": [
       "'Not Provided'"
      ]
     },
     "execution_count": 12,
     "metadata": {},
     "output_type": "execute_result"
    }
   ],
   "source": [
    "person = {'name': 'Alice', 'age': 25}\n",
    "email = person.get('email', 'Not Provided')\n",
    "email"
   ]
  },
  {
   "cell_type": "markdown",
   "id": "bbe3087f",
   "metadata": {},
   "source": [
    "### Access a value inside a nested dictionary: get the zip code."
   ]
  },
  {
   "cell_type": "code",
   "execution_count": 13,
   "id": "0eb74203",
   "metadata": {},
   "outputs": [
    {
     "data": {
      "text/plain": [
       "'M5G'"
      ]
     },
     "execution_count": 13,
     "metadata": {},
     "output_type": "execute_result"
    }
   ],
   "source": [
    "person = {'name': 'Alice', 'address': {'city': 'Toronto', 'zip': 'M5G'}}\n",
    "zipcode = person['address']['zip']\n",
    "zipcode"
   ]
  },
  {
   "cell_type": "markdown",
   "id": "cd7dea19",
   "metadata": {},
   "source": [
    "### Given a dictionary with student names as keys and scores as values, find the student with the highest score."
   ]
  },
  {
   "cell_type": "code",
   "execution_count": 14,
   "id": "c6ec3d81",
   "metadata": {},
   "outputs": [
    {
     "data": {
      "text/plain": [
       "'Bob'"
      ]
     },
     "execution_count": 14,
     "metadata": {},
     "output_type": "execute_result"
    }
   ],
   "source": [
    "scores = {'Alice': 88, 'Bob': 95, 'Charlie': 90}\n",
    "highest = max(scores, key=scores.get)\n",
    "highest"
   ]
  },
  {
   "cell_type": "markdown",
   "id": "a31bb9b1",
   "metadata": {},
   "source": [
    "### Invert a dictionary: swap keys and values."
   ]
  },
  {
   "cell_type": "code",
   "execution_count": 15,
   "id": "686e14ff",
   "metadata": {},
   "outputs": [
    {
     "data": {
      "text/plain": [
       "{1: 'a', 2: 'b'}"
      ]
     },
     "execution_count": 15,
     "metadata": {},
     "output_type": "execute_result"
    }
   ],
   "source": [
    "original = {'a': 1, 'b': 2}\n",
    "inverted = {v: k for k, v in original.items()}\n",
    "inverted"
   ]
  },
  {
   "cell_type": "markdown",
   "id": "7144d0a5",
   "metadata": {},
   "source": [
    "### Create a nested dictionary for two people and access the city of the second person."
   ]
  },
  {
   "cell_type": "code",
   "execution_count": 16,
   "id": "0f16d947",
   "metadata": {},
   "outputs": [
    {
     "data": {
      "text/plain": [
       "'Vancouver'"
      ]
     },
     "execution_count": 16,
     "metadata": {},
     "output_type": "execute_result"
    }
   ],
   "source": [
    "people = {\n",
    "    'person1': {'name': 'Alice', 'age': 25, 'city': 'Toronto'},\n",
    "    'person2': {'name': 'Bob', 'age': 30, 'city': 'Vancouver'}\n",
    "}\n",
    "people['person2']['city']"
   ]
  }
 ],
 "metadata": {
  "kernelspec": {
   "display_name": "base",
   "language": "python",
   "name": "python3"
  },
  "language_info": {
   "codemirror_mode": {
    "name": "ipython",
    "version": 3
   },
   "file_extension": ".py",
   "mimetype": "text/x-python",
   "name": "python",
   "nbconvert_exporter": "python",
   "pygments_lexer": "ipython3",
   "version": "3.11.4"
  }
 },
 "nbformat": 4,
 "nbformat_minor": 5
}
