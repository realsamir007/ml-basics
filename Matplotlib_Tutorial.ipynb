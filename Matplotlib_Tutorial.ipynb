{
 "cells": [
  {
   "cell_type": "markdown",
   "id": "3e9663cf",
   "metadata": {},
   "source": [
    "# Introduction to Matplotlib\n",
    "Matplotlib is a comprehensive library for creating static, animated, and interactive visualizations in Python. In this lesson, you'll learn the basics of plotting with Matplotlib."
   ]
  },
  {
   "cell_type": "code",
   "execution_count": null,
   "id": "cd7d0df9",
   "metadata": {},
   "outputs": [],
   "source": [
    "#!pip install matplotlib"
   ]
  },
  {
   "cell_type": "code",
   "execution_count": 1,
   "id": "4fd35dd0",
   "metadata": {},
   "outputs": [],
   "source": [
    "import matplotlib.pyplot as plt\n",
    "import numpy as np\n",
    "import pandas as pd"
   ]
  },
  {
   "cell_type": "code",
   "execution_count": null,
   "id": "29763185",
   "metadata": {},
   "outputs": [
    {
     "data": {
      "text/html": [
       "<div>\n",
       "<style scoped>\n",
       "    .dataframe tbody tr th:only-of-type {\n",
       "        vertical-align: middle;\n",
       "    }\n",
       "\n",
       "    .dataframe tbody tr th {\n",
       "        vertical-align: top;\n",
       "    }\n",
       "\n",
       "    .dataframe thead th {\n",
       "        text-align: right;\n",
       "    }\n",
       "</style>\n",
       "<table border=\"1\" class=\"dataframe\">\n",
       "  <thead>\n",
       "    <tr style=\"text-align: right;\">\n",
       "      <th></th>\n",
       "      <th>Gender</th>\n",
       "      <th>Height</th>\n",
       "      <th>Weight</th>\n",
       "      <th>Index</th>\n",
       "    </tr>\n",
       "  </thead>\n",
       "  <tbody>\n",
       "    <tr>\n",
       "      <th>0</th>\n",
       "      <td>Male</td>\n",
       "      <td>174.0</td>\n",
       "      <td>96.0</td>\n",
       "      <td>4</td>\n",
       "    </tr>\n",
       "    <tr>\n",
       "      <th>1</th>\n",
       "      <td>Male</td>\n",
       "      <td>189.0</td>\n",
       "      <td>87.0</td>\n",
       "      <td>2</td>\n",
       "    </tr>\n",
       "    <tr>\n",
       "      <th>2</th>\n",
       "      <td>Female</td>\n",
       "      <td>185.0</td>\n",
       "      <td>110.0</td>\n",
       "      <td>4</td>\n",
       "    </tr>\n",
       "    <tr>\n",
       "      <th>3</th>\n",
       "      <td>Female</td>\n",
       "      <td>NaN</td>\n",
       "      <td>104.0</td>\n",
       "      <td>3</td>\n",
       "    </tr>\n",
       "    <tr>\n",
       "      <th>4</th>\n",
       "      <td>Male</td>\n",
       "      <td>149.0</td>\n",
       "      <td>61.0</td>\n",
       "      <td>3</td>\n",
       "    </tr>\n",
       "    <tr>\n",
       "      <th>...</th>\n",
       "      <td>...</td>\n",
       "      <td>...</td>\n",
       "      <td>...</td>\n",
       "      <td>...</td>\n",
       "    </tr>\n",
       "    <tr>\n",
       "      <th>495</th>\n",
       "      <td>Female</td>\n",
       "      <td>150.0</td>\n",
       "      <td>153.0</td>\n",
       "      <td>5</td>\n",
       "    </tr>\n",
       "    <tr>\n",
       "      <th>496</th>\n",
       "      <td>Female</td>\n",
       "      <td>184.0</td>\n",
       "      <td>121.0</td>\n",
       "      <td>4</td>\n",
       "    </tr>\n",
       "    <tr>\n",
       "      <th>497</th>\n",
       "      <td>Female</td>\n",
       "      <td>141.0</td>\n",
       "      <td>136.0</td>\n",
       "      <td>5</td>\n",
       "    </tr>\n",
       "    <tr>\n",
       "      <th>498</th>\n",
       "      <td>Male</td>\n",
       "      <td>150.0</td>\n",
       "      <td>95.0</td>\n",
       "      <td>5</td>\n",
       "    </tr>\n",
       "    <tr>\n",
       "      <th>499</th>\n",
       "      <td>Male</td>\n",
       "      <td>173.0</td>\n",
       "      <td>131.0</td>\n",
       "      <td>5</td>\n",
       "    </tr>\n",
       "  </tbody>\n",
       "</table>\n",
       "<p>500 rows × 4 columns</p>\n",
       "</div>"
      ],
      "text/plain": [
       "     Gender  Height  Weight  Index\n",
       "0      Male   174.0    96.0      4\n",
       "1      Male   189.0    87.0      2\n",
       "2    Female   185.0   110.0      4\n",
       "3    Female     NaN   104.0      3\n",
       "4      Male   149.0    61.0      3\n",
       "..      ...     ...     ...    ...\n",
       "495  Female   150.0   153.0      5\n",
       "496  Female   184.0   121.0      4\n",
       "497  Female   141.0   136.0      5\n",
       "498    Male   150.0    95.0      5\n",
       "499    Male   173.0   131.0      5\n",
       "\n",
       "[500 rows x 4 columns]"
      ]
     },
     "execution_count": 4,
     "metadata": {},
     "output_type": "execute_result"
    }
   ],
   "source": [
    "df = pd.read_csv(\"bmi_with_null.csv\")\n",
    "df"
   ]
  },
  {
   "cell_type": "code",
   "execution_count": 6,
   "id": "f1191f1c",
   "metadata": {},
   "outputs": [
    {
     "name": "stdout",
     "output_type": "stream",
     "text": [
      "Gender    106\n",
      "Height     69\n",
      "Weight    213\n",
      "Index       5\n",
      "dtype: int64\n"
     ]
    }
   ],
   "source": [
    "\n",
    "np.random.seed(42)\n",
    "\n",
    "# Function to introduce nulls in a column\n",
    "def introduce_nulls(df, column, n_nulls):\n",
    "    indices = np.random.choice(df.index, size=n_nulls, replace=False)\n",
    "    df.loc[indices, column] = np.nan\n",
    "\n",
    "# Introduce nulls\n",
    "introduce_nulls(df, 'Gender', 101)\n",
    "introduce_nulls(df, 'Height', 64)\n",
    "introduce_nulls(df, 'Weight', 211)\n",
    "introduce_nulls(df, 'Index', 5)\n",
    "\n",
    "# To confirm the null values added\n",
    "print(df.isnull().sum())\n",
    "\n",
    "# Optionally save the modified dataset\n",
    "df.to_csv(\"bmi_with_nulls.csv\", index=False)\n"
   ]
  },
  {
   "cell_type": "code",
   "execution_count": 5,
   "id": "16220619",
   "metadata": {},
   "outputs": [
    {
     "data": {
      "text/plain": [
       "Gender    6\n",
       "Height    6\n",
       "Weight    6\n",
       "Index     0\n",
       "dtype: int64"
      ]
     },
     "execution_count": 5,
     "metadata": {},
     "output_type": "execute_result"
    }
   ],
   "source": [
    "df.isna().sum()"
   ]
  },
  {
   "cell_type": "markdown",
   "id": "e75e1667",
   "metadata": {},
   "source": [
    "## Basic Line Plot"
   ]
  },
  {
   "cell_type": "code",
   "execution_count": 2,
   "id": "8ff48dd9",
   "metadata": {},
   "outputs": [
    {
     "data": {
      "text/plain": [
       "([1, 2, 3, 4, 5], [2, 3, 5, 7, 11])"
      ]
     },
     "execution_count": 2,
     "metadata": {},
     "output_type": "execute_result"
    }
   ],
   "source": [
    "x = [1, 2, 3, 4, 5]\n",
    "y = [2, 3, 5, 7, 11]\n",
    "\n",
    "x, y"
   ]
  },
  {
   "cell_type": "code",
   "execution_count": 23,
   "id": "7d08c39b",
   "metadata": {},
   "outputs": [
    {
     "data": {
      "image/png": "[encoded data removed]",
      "text/plain": [
       "<Figure size 600x400 with 1 Axes>"
      ]
     },
     "metadata": {},
     "output_type": "display_data"
    }
   ],
   "source": [
    "### 1, Define the figure size\n",
    "\n",
    "plt.figure(figsize=(6,4))\n",
    "\n",
    "### 2. Action (Line, Bar, Shit, Boxplot)\n",
    "plt.plot(x,y, marker='o', markersize=7, color='green')\n",
    "\n",
    "### 3. Attributes\n",
    "\n",
    "plt.title(\"X vs Y graph\", fontsize = 14)\n",
    "plt.xlabel(\"X\", fontsize=11)\n",
    "plt.ylabel(\"Y\", fontsize=11)\n",
    "plt.xticks(rotation=45)\n",
    "plt.grid(axis='y')\n",
    "\n",
    "plt.show()"
   ]
  },
  {
   "cell_type": "markdown",
   "id": "3c467837",
   "metadata": {},
   "source": [
    "## Customizing Plots"
   ]
  },
  {
   "cell_type": "code",
   "execution_count": 24,
   "id": "1a6df1fc",
   "metadata": {},
   "outputs": [
    {
     "data": {
      "image/png": "[encoded data removed]",
      "text/plain": [
       "<Figure size 640x480 with 1 Axes>"
      ]
     },
     "metadata": {},
     "output_type": "display_data"
    }
   ],
   "source": [
    "plt.plot(x, y, color='green', linestyle='--', marker='o')\n",
    "plt.title('Customized Plot')\n",
    "plt.xlabel('X-axis')\n",
    "plt.ylabel('Y-axis')\n",
    "plt.grid(True)\n",
    "plt.show()"
   ]
  },
  {
   "cell_type": "markdown",
   "id": "30774c65",
   "metadata": {},
   "source": [
    "## Bar Plot"
   ]
  },
  {
   "cell_type": "code",
   "execution_count": 25,
   "id": "82feca4a",
   "metadata": {},
   "outputs": [
    {
     "data": {
      "image/png": "[encoded data removed]",
      "text/plain": [
       "<Figure size 640x480 with 1 Axes>"
      ]
     },
     "metadata": {},
     "output_type": "display_data"
    }
   ],
   "source": [
    "categories = ['A', 'B', 'C', 'D']\n",
    "values = [4, 7, 1, 8]\n",
    "\n",
    "plt.bar(categories, values, color='skyblue')\n",
    "plt.title('Bar Chart')\n",
    "plt.show()\n"
   ]
  },
  {
   "cell_type": "markdown",
   "id": "15c91273",
   "metadata": {},
   "source": [
    "## Histogram"
   ]
  },
  {
   "cell_type": "code",
   "execution_count": 26,
   "id": "1ae7c001",
   "metadata": {},
   "outputs": [
    {
     "name": "stdout",
     "output_type": "stream",
     "text": [
      "68\n"
     ]
    }
   ],
   "source": [
    "import random\n",
    "\n",
    "# Generate a random integer between 18 and 85\n",
    "random_number = random.randint(18, 85)\n",
    "print(random_number)"
   ]
  },
  {
   "cell_type": "code",
   "execution_count": 27,
   "id": "83ac1018",
   "metadata": {},
   "outputs": [
    {
     "data": {
      "text/plain": [
       "array([ 8.56322657e-01,  2.65169960e-01,  1.27848946e+00, -1.57532733e+00,\n",
       "        2.57305004e-02,  4.67868669e-01,  1.50917843e+00, -1.67001021e+00,\n",
       "       -9.25977157e-01,  1.08125493e-01, -9.51579598e-01,  1.37804719e-01,\n",
       "        1.21777966e+00,  1.38888244e+00,  6.04270767e-01, -9.18465710e-01,\n",
       "        6.09279853e-01, -8.15610565e-01,  3.19003807e-01,  5.42396905e-01,\n",
       "        4.25536608e-01,  1.66489199e+00, -6.83416539e-01,  1.29540843e+00,\n",
       "        8.37880372e-01,  6.42676383e-01, -2.26184013e-01, -5.15020094e-01,\n",
       "        2.32035653e-01, -1.11968453e+00, -8.21908482e-01, -1.43940401e+00,\n",
       "        1.40596104e+00, -3.31016170e-01, -1.31782040e+00, -1.68740198e-01,\n",
       "       -3.82737658e-01,  8.59559024e-01, -1.53595058e+00,  5.06717239e-01,\n",
       "        9.00153965e-01,  1.60878381e+00,  4.27740591e-01, -1.57987745e+00,\n",
       "       -4.15896940e-03, -1.93919008e+00,  8.18314250e-01,  4.85721517e-01,\n",
       "       -1.44478301e+00, -6.13405654e-01,  6.25669432e-01, -1.39560219e+00,\n",
       "       -8.02943060e-01, -1.17595776e-01,  3.27267372e-03,  4.69858559e-01,\n",
       "        2.63350930e-01,  4.85494683e-01, -1.20970870e+00,  7.45938631e-01,\n",
       "        7.39164932e-02,  5.32090830e-01,  9.79371585e-01,  1.66769296e-01,\n",
       "        8.27145280e-01, -8.66996339e-01, -9.99632277e-01,  9.12652188e-01,\n",
       "       -2.04155829e+00, -2.67502143e-01,  1.60298227e+00, -3.30194419e-01,\n",
       "       -6.30783817e-01, -1.65131371e+00,  7.52822864e-01,  1.50500900e-01,\n",
       "        1.36894257e+00, -5.16553305e-01,  2.58583585e-02,  2.34052032e-01,\n",
       "       -9.55734453e-01, -5.83846704e-01,  1.88581311e+00, -1.92031727e-01,\n",
       "       -1.85142988e-01, -2.07870606e-01, -7.44014347e-01, -8.08547260e-01,\n",
       "        7.86716655e-01,  6.92636865e-01,  7.93692778e-01, -2.76518766e-01,\n",
       "        1.03210418e+00, -5.00909098e-01,  4.96998220e-01,  1.03460142e+00,\n",
       "       -3.38158991e-02,  1.78416094e+00,  1.90111100e+00,  2.90891375e-01,\n",
       "        1.32148696e-01,  1.50944598e-01,  1.37527865e+00,  2.29278356e-01,\n",
       "       -1.21811184e+00,  2.67562873e-02,  1.28602320e+00,  1.85221470e+00,\n",
       "       -5.56183079e-02, -3.96108145e-01, -1.23351512e+00, -1.62785569e+00,\n",
       "        3.88078842e-01,  1.32227726e-01, -8.73312113e-01, -5.36108177e-01,\n",
       "       -1.23207660e+00, -7.86694103e-01, -3.46480581e-01, -6.63777028e-01,\n",
       "        5.75957420e-01,  1.95861724e-01,  3.84161813e-01, -3.96048037e-01,\n",
       "       -1.05597026e+00,  9.18888536e-01,  9.13391169e-01, -4.93628631e-01,\n",
       "        7.83572056e-01,  5.76284796e-01, -9.12742156e-01,  8.15492073e-01,\n",
       "        3.43381157e-01, -9.83066319e-01,  2.61992489e+00,  6.52156957e-02,\n",
       "        3.89833990e-01,  1.06403755e+00, -1.00759887e+00,  1.71028690e+00,\n",
       "        9.14425138e-01, -5.98085179e-01,  1.11631792e+00,  3.96158375e-01,\n",
       "       -1.78167070e-01,  1.07588423e+00,  1.25776113e-01, -5.54260148e-01,\n",
       "       -1.39622369e-01, -3.88475849e-01, -1.24600909e+00, -9.06779399e-01,\n",
       "       -1.03609505e+00, -1.38053410e+00, -8.20311318e-01, -4.64153848e-01,\n",
       "       -1.19464588e-01, -1.38697473e+00,  4.91800134e-01,  1.19863335e+00,\n",
       "       -2.75715011e-01, -6.24422911e-01,  8.28813186e-01,  8.79468098e-01,\n",
       "        4.44047073e-01, -5.15276449e-01, -1.47217306e-02, -1.38117013e+00,\n",
       "       -3.84983786e-01,  4.41069416e-01,  4.17791732e-01, -7.55819870e-01,\n",
       "       -1.29081074e+00,  3.86027352e-01, -2.70054666e-01, -5.12257696e-01,\n",
       "       -1.67849237e+00,  1.20383826e+00,  1.34312166e+00, -8.25946788e-01,\n",
       "       -3.39047109e-01, -7.20323822e-01,  1.42826050e-01,  1.01502259e+00,\n",
       "        1.23518978e+00,  4.99922555e-02,  1.00331295e+00,  5.13342716e-01,\n",
       "        1.34909993e+00, -1.22872449e+00, -1.09934322e+00,  2.11043693e-01,\n",
       "       -4.66720665e-01, -1.72367446e+00,  1.24652478e+00, -2.15508630e-01,\n",
       "        1.56499935e+00, -1.09359537e+00, -7.71843985e-01,  7.82322923e-01,\n",
       "       -4.06990794e-02, -2.01909455e-02, -2.51417407e+00, -1.26100918e+00,\n",
       "        2.92185439e-01,  1.75444784e+00, -8.14242677e-01,  8.08856929e-01,\n",
       "       -2.70765819e-01,  2.42090039e-01, -6.77776485e-01,  7.78319508e-01,\n",
       "        1.46729292e+00,  1.29936904e-01,  1.03167379e+00, -6.97454853e-01,\n",
       "        1.08659803e+00,  1.32060882e+00,  3.50748051e-01, -1.18700293e+00,\n",
       "        1.17282190e+00,  7.64155733e-01, -1.35105575e+00, -8.21562595e-01,\n",
       "        2.06164114e-01, -8.43425731e-01,  2.17601605e-01, -5.43805977e-01,\n",
       "        1.26412491e+00, -1.18371153e+00,  1.26560615e-01,  2.18680385e-01,\n",
       "       -4.53946637e-01, -3.70742074e-02,  1.37464262e-01,  6.47811890e-02,\n",
       "       -1.16895361e+00, -2.95616228e-01, -8.86097450e-01,  1.47441996e+00,\n",
       "        1.04017973e+00,  1.69968498e+00, -3.04310542e-01,  6.36810209e-01,\n",
       "       -1.04333959e+00,  1.76325986e-01, -1.56834762e+00, -1.04240101e+00,\n",
       "       -1.16498059e+00,  8.85697385e-01,  3.28030585e-01,  8.32928653e-01,\n",
       "       -8.71325941e-02,  6.81123680e-01, -2.07206318e-01, -1.41828259e+00,\n",
       "        1.03166777e+00,  7.89934613e-02, -3.17386368e-01,  2.89610983e-01,\n",
       "        2.07132993e-01, -1.29678680e+00,  1.73444146e-01,  4.89403287e-01,\n",
       "        2.75615739e-01, -1.56612090e-01, -1.05704180e+00, -1.20532820e+00,\n",
       "        1.98676191e+00, -9.56090857e-01,  1.03001362e+00,  1.22491000e-01,\n",
       "       -9.13439432e-01,  8.61340020e-01,  6.46548712e-01,  4.11518128e-01,\n",
       "        1.39759083e-01,  2.60672624e+00,  1.02310301e+00,  1.03375944e+00,\n",
       "       -2.20703456e-01, -8.96718954e-01, -8.07062642e-01,  1.92818815e+00,\n",
       "        2.75473255e-01,  2.74749854e-01,  7.69451595e-01,  1.77782500e-01,\n",
       "       -9.07438325e-01,  2.11973728e-01, -8.23061391e-01,  1.55092501e+00,\n",
       "        1.29869673e+00,  7.84258135e-02,  8.82682813e-01, -5.47527633e-02,\n",
       "        1.10921185e+00, -1.35234684e+00,  1.68590721e-01, -1.70397132e+00,\n",
       "       -1.13933015e+00, -4.10688385e-01,  7.54061599e-01,  6.48510399e-03,\n",
       "        3.55559080e-01,  2.78834740e-01, -1.18729541e+00, -3.63719184e-01,\n",
       "       -1.06464511e+00, -5.57845724e-01,  6.12238023e-01,  6.69470296e-01,\n",
       "        1.43697633e-01,  1.41536059e-01,  1.33442268e-01, -6.59292690e-01,\n",
       "       -1.27992598e-01, -2.00189222e-01,  9.89922028e-01,  1.61817965e+00,\n",
       "       -1.35510347e+00,  2.43699664e-01,  1.08023974e+00,  2.51306099e-01,\n",
       "        1.65211439e+00,  1.57523542e-01,  1.22928455e+00, -4.30668536e-01,\n",
       "       -4.23697169e-01, -8.14981184e-01, -1.63295784e-01, -6.46960009e-01,\n",
       "       -8.38002375e-01,  5.44029598e-01, -5.21512278e-01, -1.96131275e+00,\n",
       "       -1.10680689e+00,  1.14012886e+00, -6.13155940e-01, -1.60581400e+00,\n",
       "        1.33077184e+00,  1.16066108e+00, -7.60087957e-01, -2.70239331e-01,\n",
       "        8.05720439e-02,  4.68349992e-02,  1.25135996e-01,  2.04104287e+00,\n",
       "       -8.88833983e-01,  1.63205083e-01,  9.01370711e-01,  3.85131308e-01,\n",
       "       -5.45314541e-01, -4.24210840e-01, -5.93990819e-01,  4.39768166e-01,\n",
       "       -2.25069648e-01,  8.23982171e-01,  7.49022559e-01,  6.99564906e-01,\n",
       "       -7.42834093e-01,  4.77009144e-01,  5.59425844e-01, -1.86288819e+00,\n",
       "       -2.54397651e-02,  8.61029960e-01, -1.05559858e+00,  2.13546429e+00,\n",
       "        1.23929012e-01, -9.46821065e-01,  7.65558535e-01, -1.95972638e-01,\n",
       "        1.61796586e-01, -3.25022633e-01, -1.03490049e+00,  6.99389657e-01,\n",
       "       -9.02700680e-01,  5.33369319e-01,  1.17750603e+00,  6.38872211e-01,\n",
       "       -1.20463148e+00,  3.11757440e-01, -1.91008431e-01,  7.11945954e-01,\n",
       "        8.03528442e-01,  1.18394666e+00,  5.22512858e-01, -2.71772472e-01,\n",
       "       -1.63507262e-01,  4.40825767e-01,  1.33885481e+00, -2.26238182e+00,\n",
       "        5.83679444e-01,  1.50174181e-01,  5.43049577e-01, -8.01973084e-01,\n",
       "        7.11309608e-01, -4.73995217e-01, -2.29701978e+00,  7.01644485e-01,\n",
       "       -6.85914938e-01, -2.00090205e+00,  1.01206770e-01,  1.47869787e+00,\n",
       "        1.13168620e+00, -2.02102811e-01,  1.88410275e+00,  9.16305532e-01,\n",
       "       -1.00346023e+00,  8.06864754e-01, -3.50285163e-01, -6.95327192e-01,\n",
       "        1.06987419e+00, -9.16044552e-01, -4.05666362e-01,  3.54951152e-02,\n",
       "        5.59573928e-01, -4.63634839e-01,  4.46670350e-01, -7.95497909e-01,\n",
       "       -3.21442908e+00, -1.43082910e+00, -1.61431313e+00,  1.05532493e+00,\n",
       "        7.40214850e-01, -7.70283283e-01,  1.91960110e+00, -5.34055271e-01,\n",
       "       -7.12395698e-01, -1.25865700e+00, -1.04382031e+00,  2.49162693e-01,\n",
       "        1.55461040e-02, -8.22146314e-01, -2.41535195e-01, -6.85586804e-01,\n",
       "        8.83845891e-02,  6.02256773e-01,  1.66573713e-01,  8.96983806e-01,\n",
       "        8.18079376e-01,  1.17464668e+00,  6.24051444e-01, -3.82468943e-01,\n",
       "       -4.25939563e-01,  3.02890117e-01, -9.53695725e-01, -2.68329351e-01,\n",
       "        1.53287951e+00, -1.94228421e+00, -9.79338465e-01, -7.02409689e-01,\n",
       "        5.51943209e-01, -1.09380582e+00,  8.28849659e-01,  6.84825083e-01,\n",
       "       -6.35336475e-01, -3.83131995e-01,  2.23412349e-01, -6.90265623e-01,\n",
       "       -5.53588916e-01, -8.44673172e-01,  2.88635689e-01,  3.29657490e-01,\n",
       "       -2.34582476e+00, -1.38681918e-01, -4.89175051e-01,  1.20376475e-02,\n",
       "        3.09495814e-01, -1.16338868e+00, -4.89463661e-01, -2.29805571e-02,\n",
       "        1.67359058e+00, -5.09888063e-01,  6.10205547e-01, -1.38868146e-01,\n",
       "       -5.58505342e-01, -2.77711598e-01, -6.64030921e-01,  6.72575283e-01,\n",
       "       -1.36063352e+00, -1.15619910e+00,  1.29160802e+00,  1.74407332e+00,\n",
       "        9.81129870e-02, -5.27862672e-01,  6.55809540e-01, -1.64654788e+00,\n",
       "       -1.35782408e+00, -2.64574875e+00, -3.80495464e-01,  1.23841299e+00,\n",
       "       -1.07069456e+00, -5.09936813e-01, -2.82130986e-01,  6.64949132e-01,\n",
       "        1.02508735e+00,  1.38637719e+00,  6.14156292e-01,  9.89327434e-02,\n",
       "       -1.03762673e+00, -1.53679040e+00,  6.80712385e-01, -9.31563017e-01,\n",
       "        1.78206073e+00,  3.74988180e-01, -1.99614513e-02,  1.58250667e+00,\n",
       "        6.51370488e-01, -7.77570381e-01, -9.72528909e-01, -4.74126398e-01,\n",
       "        8.02805828e-01, -1.34507143e-01,  1.05632670e+00, -2.82764017e-01,\n",
       "       -5.02709279e-01, -5.78584228e-01,  6.41378322e-01,  1.28651553e-01,\n",
       "        1.39977461e+00,  5.50367990e-01,  3.50444068e-01,  3.95609114e-01,\n",
       "       -7.21402045e-03,  8.20604181e-01, -1.97831991e+00,  2.16438916e+00,\n",
       "       -8.05537016e-01,  2.29277759e-01, -4.70710566e-01,  9.64682418e-01,\n",
       "       -4.76298305e-02,  9.12254137e-01, -9.71294431e-01,  1.69899211e+00,\n",
       "        2.43700025e+00,  1.28925447e+00,  6.89387902e-01,  1.08357220e+00,\n",
       "        2.89842204e-01,  2.06600932e+00, -6.04032470e-01,  2.67772496e-01,\n",
       "       -3.33552133e-01,  7.97934583e-02,  2.34999250e+00,  1.79142153e+00,\n",
       "        7.08844107e-01,  1.70952668e-01, -2.81636638e-01, -3.45149758e-01,\n",
       "        8.49963204e-01, -1.10698372e+00, -1.73020175e-01,  8.62288312e-01,\n",
       "        4.72854323e-01,  4.53972008e-02,  6.90678886e-01,  4.17571749e-01,\n",
       "        5.57836602e-02,  2.09112158e+00, -1.18054544e+00,  4.50188839e-01,\n",
       "       -6.53358812e-01,  4.41142102e-01,  4.78521409e-01,  5.21105503e-02,\n",
       "        1.32182764e+00, -6.38662072e-01,  3.28986626e-01, -2.17028602e-02,\n",
       "       -1.10513108e-01,  5.89407961e-01, -8.72554415e-01, -1.34797959e+00,\n",
       "       -1.66271411e+00,  6.45145008e-01, -1.52318506e+00,  9.95339321e-01,\n",
       "        1.28529801e+00,  6.89214301e-01, -1.56250633e+00, -1.80118127e-01,\n",
       "        5.26718312e-01, -1.32086447e+00, -4.19702636e-02, -1.47173328e+00,\n",
       "       -2.21151824e+00, -1.15887844e-01,  1.03153203e+00, -9.78731004e-02,\n",
       "       -1.15736022e+00, -4.37263209e-01,  1.19394168e+00,  1.34105101e-01,\n",
       "        1.13185643e+00, -1.92604376e-02, -9.11630105e-01, -1.68078364e-01,\n",
       "       -7.98110885e-01, -1.18387177e+00, -2.33793941e+00, -1.93102452e+00,\n",
       "       -1.56251347e-01,  5.06329462e-01,  4.70506906e-01,  7.77636083e-01,\n",
       "       -1.87760376e-01,  1.63453013e+00,  1.17434570e+00,  1.19990923e+00,\n",
       "        1.30284900e+00,  3.18411686e-01, -1.18502669e+00,  6.50567849e-01,\n",
       "        3.19496842e-01,  1.51669999e+00, -1.13779897e+00,  6.17063233e-01,\n",
       "       -3.09186282e-01,  5.39216674e-01,  5.58542300e-01, -1.35472611e+00,\n",
       "       -1.85475892e+00,  2.98229625e-01, -1.74986798e+00,  2.41612150e-01,\n",
       "        6.17135571e-01,  1.13003000e-02,  2.01791854e-01,  9.86410663e-02,\n",
       "        5.33205694e-02,  3.59620450e-01,  3.72995598e-01, -7.67925284e-01,\n",
       "        5.88391082e-02, -5.90868158e-01,  7.96592190e-01, -1.31854573e+00,\n",
       "        3.02648989e-02, -1.24338653e+00,  1.72489347e+00,  5.23416453e-01,\n",
       "       -6.06393170e-01,  1.25907723e-01,  1.19892433e+00, -1.41550681e+00,\n",
       "        9.47149819e-01, -5.19865472e-01, -7.58388291e-01, -4.34561374e-01,\n",
       "       -1.91038152e-01, -7.82242432e-02, -1.64333515e-01, -4.49195619e-01,\n",
       "        1.28101701e-02,  1.12492091e+00,  6.14021717e-01, -8.51604227e-01,\n",
       "        7.92244109e-01,  8.54932238e-01,  7.42045952e-01, -4.33613684e-01,\n",
       "       -1.27494967e+00, -7.51927009e-02,  2.08881469e+00,  6.00171772e-01,\n",
       "       -2.27070856e+00, -1.25042092e+00,  1.32326637e+00,  5.33855364e-01,\n",
       "       -5.79452300e-01,  1.63410219e+00,  1.82429957e-01,  1.85540067e+00,\n",
       "       -1.18530160e-01, -8.39355283e-01,  2.29235536e-01, -1.93649054e+00,\n",
       "        1.40015888e-01, -3.90514150e-02, -2.53924645e-01, -1.17391949e+00,\n",
       "       -7.66473406e-01,  5.51634318e-01, -1.30814775e-01, -3.01235606e-01,\n",
       "       -9.07953643e-02,  8.17544456e-01, -1.49036149e+00, -6.92521803e-01,\n",
       "        8.24466882e-01,  1.04130979e+00, -7.34207061e-01,  5.72990312e-01,\n",
       "        8.98830083e-01,  3.43966438e-01,  1.72295508e+00,  9.43529367e-01,\n",
       "       -6.17549609e-01, -5.29446685e-01,  5.68160536e-01,  3.67355387e-01,\n",
       "        8.32888940e-01,  2.14252992e+00,  2.76484607e-02,  1.50592644e+00,\n",
       "        1.09212516e+00,  2.01518729e+00, -1.09807934e+00,  4.13544889e-01,\n",
       "        7.72834868e-01,  5.07246213e-01,  1.17029263e-01,  1.71083855e+00,\n",
       "        8.61448507e-01,  1.52343195e-01, -1.34372300e+00, -5.17852171e-01,\n",
       "        1.43538895e-01, -2.46846533e-02, -2.32851940e+00,  7.04731313e-01,\n",
       "        2.84307617e-01,  4.19836441e-01, -9.82224047e-02,  1.40169381e+00,\n",
       "       -9.14237101e-01, -1.60875890e-01, -6.05112205e-01,  3.02157450e-01,\n",
       "        1.17332415e+00,  1.08413432e-01,  7.90616807e-02, -1.98739284e-01,\n",
       "        4.78485637e-01,  2.51730214e-01, -5.10842851e-01,  7.02783964e-01,\n",
       "       -7.79768596e-01,  2.61529538e+00,  9.09315511e-02, -4.90852682e-01,\n",
       "       -8.96234697e-01, -2.93357038e-01,  6.27230883e-01, -9.49827058e-01,\n",
       "        5.86615973e-01, -1.63745010e+00, -1.76327398e+00,  5.79452363e-01,\n",
       "       -1.09156657e+00, -5.77981188e-01, -1.86282286e+00,  1.91064615e+00,\n",
       "        7.53934526e-01,  1.24861907e+00, -5.31759769e-01, -8.95138909e-01,\n",
       "        9.07506647e-01,  4.01445163e-01,  8.59196954e-01,  1.50515346e+00,\n",
       "       -9.92649491e-01,  1.19744541e+00, -3.42574793e-01,  7.27605643e-01,\n",
       "       -2.87657789e-01,  2.80362772e-01,  5.09912993e-01, -4.77288750e-01,\n",
       "        4.34261502e-01, -3.71095198e-01, -6.58259613e-01, -1.01699554e+00,\n",
       "       -1.70625765e+00,  7.36762348e-01,  1.58023353e-01,  1.76728468e+00,\n",
       "        5.85996956e-01, -9.93980584e-01,  1.75925673e-01,  5.42543812e-01,\n",
       "       -3.51656966e+00,  1.20944791e+00,  2.53259377e-01, -4.71158181e-01,\n",
       "        4.15979436e-01, -3.10304283e-01, -3.84968765e-01, -7.80033628e-02,\n",
       "        1.45922797e+00,  6.17303450e-01, -7.76498677e-02, -1.69032651e-01,\n",
       "       -2.17125304e-01, -1.89603572e-02, -1.47869431e+00,  1.20484638e+00,\n",
       "        1.37871669e+00, -5.92430076e-01,  6.56996791e-01, -6.94440580e-01,\n",
       "        5.46478815e-01,  8.43061805e-02,  2.08118916e+00, -4.21413327e-01,\n",
       "       -2.53047516e+00,  7.44376981e-01,  6.25830076e-01,  1.18510983e+00,\n",
       "        9.10788478e-01, -9.11030563e-01, -1.80127606e+00,  3.37390706e-01,\n",
       "        4.93737584e-01, -2.22472979e-03,  9.36486587e-01, -1.75694303e-01,\n",
       "       -1.37576755e-01, -2.41278652e-02,  1.47476303e-01, -6.69158673e-02,\n",
       "        9.77468036e-01,  8.02180302e-01,  6.74140485e-01,  2.77950048e-01,\n",
       "        7.54503020e-01,  5.38267124e-01,  8.99519061e-01,  8.32957334e-01,\n",
       "        1.51298144e+00,  2.69025743e-02, -1.41988195e+00,  1.97983827e+00,\n",
       "        2.08778511e-01, -1.65625957e+00, -3.09969474e-01, -8.97174579e-01,\n",
       "        1.04758953e+00,  1.07526200e-01, -1.91829731e+00, -2.01916897e+00,\n",
       "       -5.47395470e-01,  7.78608397e-02, -2.15373097e+00,  9.49000766e-01,\n",
       "       -1.84705378e+00, -7.12121492e-01,  1.78808161e-01,  1.59680023e+00,\n",
       "        5.56929414e-01, -1.55572146e-01,  3.44930049e-01, -1.21208226e+00,\n",
       "        1.10092352e+00, -7.77602755e-01,  5.23962088e-01,  6.68329138e-01,\n",
       "       -2.49634683e-01, -3.23047404e-01,  7.63482737e-02,  1.83909519e+00,\n",
       "       -9.32690434e-01,  4.26878237e-01,  9.82124145e-01, -3.81849052e-01,\n",
       "       -1.98454854e-01,  2.33160464e+00, -3.77116863e-01,  6.81361771e-01,\n",
       "        4.17602447e-01,  6.88421384e-01, -8.46168831e-01, -1.86933395e+00,\n",
       "        3.73217949e-01,  3.57962111e-01, -7.85357656e-01, -1.45413468e+00,\n",
       "       -1.30095673e+00,  1.54433900e+00,  1.11617220e+00,  1.40178027e+00,\n",
       "       -6.74242585e-01, -3.31697369e+00,  1.14016630e+00, -5.28578158e-01,\n",
       "        3.77926943e-01,  8.03827927e-01,  1.24409360e+00,  5.64257262e-01,\n",
       "        2.69006830e-02, -2.68711889e-01, -2.99883594e-01,  4.88896009e-01,\n",
       "        6.04092301e-01,  2.66215428e-01,  2.67583348e-01,  4.94158565e-01,\n",
       "        2.06827500e-01,  2.18644471e-01, -1.25718859e+00,  6.43449648e-02,\n",
       "        5.52784630e-01, -1.52359780e-01, -1.73950260e-01, -4.97475226e-01,\n",
       "       -7.91759428e-02, -1.48213057e+00,  5.67628950e-01,  5.86629812e-01,\n",
       "        4.80366054e-01,  2.42599930e-01, -8.82277718e-01,  2.07939200e+00,\n",
       "        6.26441800e-01,  1.95860497e-01, -3.91482001e-01, -1.06900807e+00,\n",
       "        7.51379037e-01, -1.08512400e-01, -9.09194172e-01,  2.81386480e-01,\n",
       "       -1.79526506e+00,  1.94793281e+00, -1.14039931e+00,  2.27439121e-02,\n",
       "       -5.98252990e-02,  5.66219684e-01, -9.81185336e-01,  1.20413815e-01,\n",
       "       -3.03310894e-01,  5.11327815e-01, -1.80085903e+00, -8.16830866e-01,\n",
       "       -9.21727815e-03, -7.16338550e-01, -9.46934764e-01, -4.01380302e-02,\n",
       "       -2.01698590e+00,  2.70872464e+00,  8.89366615e-01,  9.39785839e-02,\n",
       "        1.05274319e+00,  1.76325294e-01, -5.76330204e-01,  7.15125235e-01,\n",
       "        1.11987835e+00, -4.94989450e-01,  7.96565104e-02,  1.62354961e-01,\n",
       "       -9.53564306e-01, -3.63041120e-02, -8.17014210e-01,  9.31821689e-01,\n",
       "       -7.93524455e-01, -6.89291560e-01,  1.60291515e-02,  2.88419079e-01,\n",
       "       -7.52097473e-01,  1.40254391e-01, -1.14725297e+00,  1.55845169e+00,\n",
       "        1.32827204e+00,  1.12372372e-01, -4.39043482e-01, -1.22746396e-01,\n",
       "       -2.34185805e+00,  1.16661044e+00,  7.95990575e-01,  4.35872958e-01,\n",
       "        2.68930852e-02, -1.32972612e+00,  2.19465934e-02,  6.67448558e-01,\n",
       "        6.40333008e-01,  5.26872541e-01, -7.75987962e-01,  5.69464917e-01,\n",
       "       -1.13622132e+00, -1.67859310e+00,  2.25855752e-01, -8.90626346e-01,\n",
       "        7.78918000e-01,  2.08538233e-01, -4.09906658e-01, -1.60605552e-01,\n",
       "       -6.33693170e-01, -6.03073415e-01, -1.00996534e-01,  1.22876936e+00,\n",
       "       -2.68024689e-01,  9.72723313e-01, -9.16896659e-01,  2.12452732e+00,\n",
       "       -7.06265381e-01,  5.18409142e-01, -4.43722623e-01,  1.24470378e+00])"
      ]
     },
     "execution_count": 27,
     "metadata": {},
     "output_type": "execute_result"
    }
   ],
   "source": [
    "import numpy as np\n",
    "\n",
    "data = np.random.randn(1000)\n",
    "data"
   ]
  },
  {
   "cell_type": "code",
   "execution_count": 30,
   "id": "ad805eb4",
   "metadata": {},
   "outputs": [
    {
     "data": {
      "image/png": "[encoded data removed]",
      "text/plain": [
       "<Figure size 640x480 with 1 Axes>"
      ]
     },
     "metadata": {},
     "output_type": "display_data"
    }
   ],
   "source": [
    "plt.hist(data, bins=10, color='skyblue')\n",
    "plt.title('Histogram')\n",
    "plt.show()"
   ]
  },
  {
   "cell_type": "markdown",
   "id": "4c6f266e",
   "metadata": {},
   "source": [
    "## Scatter Plot"
   ]
  },
  {
   "cell_type": "code",
   "execution_count": 31,
   "id": "45e5d090",
   "metadata": {},
   "outputs": [
    {
     "data": {
      "image/png": "[encoded data removed]",
      "text/plain": [
       "<Figure size 640x480 with 1 Axes>"
      ]
     },
     "metadata": {},
     "output_type": "display_data"
    }
   ],
   "source": [
    "x = np.random.rand(50)\n",
    "y = np.random.rand(50)\n",
    "\n",
    "plt.scatter(x, y, color='red')\n",
    "plt.title('Scatter Plot')\n",
    "plt.show()"
   ]
  },
  {
   "cell_type": "markdown",
   "id": "615077bc",
   "metadata": {},
   "source": [
    "## Subplots"
   ]
  },
  {
   "cell_type": "code",
   "execution_count": null,
   "id": "854897d1",
   "metadata": {},
   "outputs": [],
   "source": [
    "plt.figure(figsize=(10,5))\n",
    "\n",
    "plt.subplot(1, 2, 1)\n",
    "plt.plot(x, y, 'o')\n",
    "plt.title('Plot 1')\n",
    "\n",
    "plt.subplot(1, 2, 2)\n",
    "plt.bar(categories, values)\n",
    "plt.title('Plot 2')\n",
    "\n",
    "plt.tight_layout()\n",
    "plt.show()"
   ]
  },
  {
   "cell_type": "markdown",
   "id": "95b7f75b",
   "metadata": {},
   "source": [
    "## Coding styles"
   ]
  },
  {
   "cell_type": "markdown",
   "id": "7d0ae8a4",
   "metadata": {},
   "source": [
    "### 1. Pyplot Style"
   ]
  },
  {
   "cell_type": "code",
   "execution_count": null,
   "id": "33b29ac9",
   "metadata": {},
   "outputs": [],
   "source": [
    "x = np.linspace(0, 2, 100)  # Sample data.\n",
    "\n",
    "plt.figure(figsize=(5, 2.7))\n",
    "plt.plot(x, x, label='linear')  # Plot some data on the (implicit) Axes.\n",
    "plt.plot(x, x**2, label='quadratic')  # etc.\n",
    "plt.plot(x, x**3, label='cubic')\n",
    "plt.xlabel('x label')\n",
    "plt.ylabel('y label')\n",
    "plt.title(\"Simple Plot\")\n",
    "plt.legend()\n",
    "plt.show()"
   ]
  },
  {
   "cell_type": "markdown",
   "id": "ace4313a",
   "metadata": {},
   "source": [
    "### 2. OO-Style"
   ]
  },
  {
   "cell_type": "code",
   "execution_count": null,
   "id": "5d1d76a0",
   "metadata": {},
   "outputs": [],
   "source": [
    "x = np.linspace(0, 2, 100)  # Sample data.\n",
    "\n",
    "# Note that even in the OO-style, we use `.pyplot.figure` to create the Figure.\n",
    "fig, ax = plt.subplots(figsize=(5, 2.7), layout='constrained')\n",
    "ax.plot(x, x, label='linear')  # Plot some data on the Axes.\n",
    "ax.plot(x, x**2, label='quadratic')  # Plot more data on the Axes...\n",
    "ax.plot(x, x**3, label='cubic')  # ... and some more.\n",
    "ax.set_xlabel('x label')  # Add an x-label to the Axes.\n",
    "ax.set_ylabel('y label')  # Add a y-label to the Axes.\n",
    "ax.set_title(\"Simple Plot\")  # Add a title to the Axes.\n",
    "ax.legend()  # Add a legend."
   ]
  },
  {
   "cell_type": "markdown",
   "id": "696b7892",
   "metadata": {},
   "source": [
    "### 3. Creating Sub Plots"
   ]
  },
  {
   "cell_type": "code",
   "execution_count": null,
   "id": "52db500e",
   "metadata": {},
   "outputs": [],
   "source": [
    "# Create a 2x2 grid of subplots\n",
    "fig, axs = plt.subplots(2, 2, figsize=(10, 8))\n",
    "fig.suptitle('Matplotlib Diagram with 3 Axes', fontsize=16)\n",
    "\n",
    "# First subplot (top-left): Line plot\n",
    "axs[0, 0].plot([1, 2, 3], [1, 4, 9], color='blue')\n",
    "axs[0, 0].set_title('Quadratic Plot')\n",
    "axs[0, 0].set_xlabel('X')\n",
    "axs[0, 0].set_ylabel('Y')\n",
    "\n",
    "# Second subplot (top-right): Bar chart\n",
    "axs[0, 1].bar(['A', 'B', 'C'], [5, 7, 3], color='orange')\n",
    "axs[0, 1].set_title('Bar Chart')\n",
    "\n",
    "# Third subplot (bottom-left): Scatter plot\n",
    "axs[1, 0].scatter([1, 2, 3, 4], [10, 20, 25, 30], color='green')\n",
    "axs[1, 0].set_title('Scatter Plot')\n",
    "\n",
    "# Remove the fourth subplot (bottom-right)\n",
    "fig.delaxes(axs[1, 1])\n",
    "\n",
    "# Adjust layout to prevent overlap\n",
    "plt.tight_layout(rect=[0, 0, 1, 0.95])\n",
    "\n",
    "# Show the figure\n",
    "plt.show()\n"
   ]
  },
  {
   "cell_type": "markdown",
   "id": "12f9f81b",
   "metadata": {},
   "source": [
    "### BOX Plot"
   ]
  },
  {
   "cell_type": "code",
   "execution_count": 6,
   "id": "8d311b0e",
   "metadata": {},
   "outputs": [
    {
     "data": {
      "text/plain": [
       "array([ 54.96714153,  48.61735699,  56.47688538,  65.23029856,\n",
       "        47.65846625,  47.65863043,  65.79212816,  57.67434729,\n",
       "        45.30525614,  55.42560044,  45.36582307,  45.34270246,\n",
       "        52.41962272,  30.86719755,  32.75082167,  44.37712471,\n",
       "        39.8716888 ,  53.14247333,  40.91975924,  35.87696299,\n",
       "        64.65648769,  47.742237  ,  50.67528205,  35.75251814,\n",
       "        44.55617275,  51.1092259 ,  38.49006423,  53.75698018,\n",
       "        43.9936131 ,  47.0830625 ,  43.98293388,  68.52278185,\n",
       "        49.86502775,  39.42289071,  58.22544912,  37.7915635 ,\n",
       "        52.08863595,  30.40329876,  36.71813951,  51.96861236,\n",
       "        57.3846658 ,  51.71368281,  48.84351718,  46.98896304,\n",
       "        35.2147801 ,  42.80155792,  45.39361229,  60.57122226,\n",
       "        53.4361829 ,  32.36959845,  53.24083969,  46.1491772 ,\n",
       "        43.23078   ,  56.11676289,  60.30999522,  59.31280119,\n",
       "        41.60782477,  46.90787624,  53.31263431,  59.75545127,\n",
       "        45.20825762,  48.14341023,  38.93665026,  38.03793376,\n",
       "        58.12525822,  63.56240029,  49.27989878,  60.03532898,\n",
       "        53.61636025,  43.54880245,  53.61395606,  65.38036566,\n",
       "        49.64173961,  65.64643656,  23.80254896,  58.21902504,\n",
       "        50.87047068,  47.0099265 ,  50.91760777,  30.12431085,\n",
       "        47.80328112,  53.57112572,  64.77894045,  44.81729782,\n",
       "        41.91506397,  44.98242956,  59.15402118,  53.2875111 ,\n",
       "        44.70239796,  55.13267433,  50.97077549,  59.68644991,\n",
       "        42.97946906,  46.72337853,  46.07891847,  35.36485052,\n",
       "        52.96120277,  52.61055272,  50.05113457,  47.65412867,\n",
       "       100.        , 105.        , 110.        ])"
      ]
     },
     "execution_count": 6,
     "metadata": {},
     "output_type": "execute_result"
    }
   ],
   "source": [
    "# Generate random normal data\n",
    "np.random.seed(42)\n",
    "data = np.random.normal(loc=50, scale=10, size=100)\n",
    "\n",
    "# print(data)\n",
    "\n",
    "# Add outliers\n",
    "data_with_outliers = np.append(data, [100, 105, 110])\n",
    "\n",
    "data_with_outliers\n",
    "\n"
   ]
  },
  {
   "cell_type": "code",
   "execution_count": null,
   "id": "1899945f",
   "metadata": {},
   "outputs": [],
   "source": [
    "Q1 = np.percentile(data_with_outliers, 25)\n",
    "print('Q1', Q1)\n",
    "Q2 = np.percentile(data_with_outliers, 50)\n",
    "print('Q2', Q2)\n",
    "Q3 = np.percentile(data_with_outliers, 75)\n",
    "print('Q3', Q3)\n",
    "\n",
    "IQR = Q3 - Q1\n",
    "print(\"IQR\",IQR)\n",
    "\n",
    "Upper_bound = Q3 + 1.5*IQR\n",
    "print('Upper Bound', Upper_bound)\n",
    "\n",
    "Lower_bound = Q1 - 1.5*IQR\n",
    "print(\"Lower Bound\", Lower_bound)"
   ]
  },
  {
   "cell_type": "code",
   "execution_count": 7,
   "id": "ceb1f540",
   "metadata": {},
   "outputs": [
    {
     "data": {
      "image/png": "[encoded data removed]",
      "text/plain": [
       "<Figure size 640x480 with 1 Axes>"
      ]
     },
     "metadata": {},
     "output_type": "display_data"
    }
   ],
   "source": [
    "plt.boxplot(data_with_outliers,vert=False,patch_artist=True,  boxprops=dict(facecolor='lightblue'));\n"
   ]
  },
  {
   "cell_type": "code",
   "execution_count": 9,
   "id": "e4be0bff",
   "metadata": {},
   "outputs": [
    {
     "data": {
      "text/plain": [
       "<Axes: ylabel='Count'>"
      ]
     },
     "execution_count": 9,
     "metadata": {},
     "output_type": "execute_result"
    },
    {
     "data": {
      "image/png": "[encoded data removed]",
      "text/plain": [
       "<Figure size 640x480 with 1 Axes>"
      ]
     },
     "metadata": {},
     "output_type": "display_data"
    }
   ],
   "source": [
    "import seaborn as sns\n",
    "sns.histplot(data_with_outliers, kde = True)\n",
    "\n"
   ]
  },
  {
   "cell_type": "code",
   "execution_count": null,
   "id": "53f8c84c",
   "metadata": {},
   "outputs": [],
   "source": [
    "plt.boxplot(data,vert=True,patch_artist=True,  boxprops=dict(facecolor='lightblue'));"
   ]
  },
  {
   "cell_type": "code",
   "execution_count": null,
   "id": "b0396ffe",
   "metadata": {},
   "outputs": [],
   "source": [
    "plt.hist(data);\n",
    "\n"
   ]
  },
  {
   "cell_type": "code",
   "execution_count": 5,
   "id": "a517db47",
   "metadata": {},
   "outputs": [
    {
     "data": {
      "image/png": "[encoded data removed]",
      "text/plain": [
       "<Figure size 600x600 with 1 Axes>"
      ]
     },
     "metadata": {},
     "output_type": "display_data"
    }
   ],
   "source": [
    "# Create the boxplot\n",
    "fig, ax = plt.subplots(figsize=(6, 6))\n",
    "ax.boxplot(data, \n",
    "           vert=True, \n",
    "           patch_artist=True, \n",
    "           boxprops=dict(facecolor='lightblue'))\n",
    "\n",
    "# Add labels and title\n",
    "ax.set_title('Boxplot Showing Outliers')\n",
    "ax.set_ylabel('Values')\n",
    "\n",
    "# Display the plot\n",
    "plt.show()"
   ]
  },
  {
   "cell_type": "code",
   "execution_count": null,
   "id": "7a3db9a6",
   "metadata": {},
   "outputs": [],
   "source": [
    "import pandas as pd\n",
    "df = pd.read_csv(\"bank.csv\")\n",
    "df\n"
   ]
  },
  {
   "cell_type": "code",
   "execution_count": null,
   "id": "8a3efb91",
   "metadata": {},
   "outputs": [],
   "source": [
    "# Group by education and count subscriptions\n",
    "education_counts = df['education'].value_counts()\n",
    "education_counts"
   ]
  },
  {
   "cell_type": "code",
   "execution_count": null,
   "id": "e8e24e29",
   "metadata": {},
   "outputs": [],
   "source": [
    "\n",
    "ed = df.groupby('education')['marital'].value_counts().rename('count').reset_index()\n",
    "\n",
    "\n",
    "ed"
   ]
  },
  {
   "cell_type": "code",
   "execution_count": null,
   "id": "5bbcd302",
   "metadata": {},
   "outputs": [],
   "source": [
    "import seaborn as sns\n",
    "sns.barplot(data=ed, y='education', x ='count', hue='marital',orient='h')\n",
    "\n",
    "plt.xlabel(\"Education Level\")\n",
    "plt.legend(bbox_to_anchor=(1,1))"
   ]
  },
  {
   "cell_type": "code",
   "execution_count": null,
   "id": "9b7aa69f",
   "metadata": {},
   "outputs": [],
   "source": [
    "grouped_df = education_counts.reset_index()\n",
    "grouped_df.columns = ['Education Level', 'Total Subscriptions']"
   ]
  },
  {
   "cell_type": "code",
   "execution_count": null,
   "id": "2d63222d",
   "metadata": {},
   "outputs": [],
   "source": [
    "grouped_df"
   ]
  },
  {
   "cell_type": "code",
   "execution_count": null,
   "id": "e8407c8f",
   "metadata": {},
   "outputs": [],
   "source": [
    "# Plot\n",
    "plt.barh(grouped_df['Education Level'], grouped_df['Total Subscriptions'])\n",
    "plt.xlabel('Education Level')\n",
    "plt.ylabel('Number of Subscriptions')\n",
    "\n",
    "plt.title('Subscriptions by Education Level')\n",
    "plt.xticks(rotation=45)\n",
    "plt.grid(axis='y', linestyle='--', alpha=0.6)\n",
    "plt.tight_layout()\n",
    "plt.show()"
   ]
  }
 ],
 "metadata": {
  "kernelspec": {
   "display_name": "base",
   "language": "python",
   "name": "python3"
  },
  "language_info": {
   "codemirror_mode": {
    "name": "ipython",
    "version": 3
   },
   "file_extension": ".py",
   "mimetype": "text/x-python",
   "name": "python",
   "nbconvert_exporter": "python",
   "pygments_lexer": "ipython3",
   "version": "3.11.4"
  }
 },
 "nbformat": 4,
 "nbformat_minor": 5
}
