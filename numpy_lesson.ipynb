{
 "cells": [
  {
   "cell_type": "markdown",
   "id": "2d64b360",
   "metadata": {},
   "source": [
    "# NumPy Lesson\n",
    "\n",
    "This notebook covers core NumPy concepts: array creation, attributes, arithmetic, indexing, broadcasting, shape manipulation, random generation, linear algebra, performance tips, interoperability, and exercises."
   ]
  },
  {
   "cell_type": "markdown",
   "id": "bdfe9f85",
   "metadata": {},
   "source": [
    "## 1. Introduction to NumPy\n",
    "- Library for numerical computing\n",
    "- Provides `ndarray` for efficient array operations\n",
    "- Benefits: speed, memory efficiency, rich API"
   ]
  },
  {
   "cell_type": "markdown",
   "id": "6fd03986",
   "metadata": {},
   "source": [
    "## 2. Creating Arrays"
   ]
  },
  {
   "cell_type": "code",
   "execution_count": null,
   "id": "277e48d5",
   "metadata": {},
   "outputs": [],
   "source": [
    "!pip install numpy"
   ]
  },
  {
   "cell_type": "code",
   "execution_count": 2,
   "id": "2fe75ff9",
   "metadata": {},
   "outputs": [
    {
     "name": "stdout",
     "output_type": "stream",
     "text": [
      "[1 2 3]\n",
      "\n",
      "[[1 2]\n",
      " [3 4]]\n"
     ]
    }
   ],
   "source": [
    "import numpy as np\n",
    "\n",
    "# From Python sequences\n",
    "a = np.array([1, 2, 3])\n",
    "b = np.array([[1, 2], [3, 4]])\n",
    "\n",
    "print(a)\n",
    "print('')\n",
    "print(b)"
   ]
  },
  {
   "cell_type": "code",
   "execution_count": 3,
   "id": "e02697c7",
   "metadata": {},
   "outputs": [
    {
     "data": {
      "text/plain": [
       "([1, 2, 3, 4, 'name'], array(['1', '2', '3', '4', 'name'], dtype='<U21'))"
      ]
     },
     "execution_count": 3,
     "metadata": {},
     "output_type": "execute_result"
    }
   ],
   "source": [
    "ab = np.array([1,2,3,4,'name'])\n",
    "abc = [1,2,3,4,'name']\n",
    "\n",
    "abc, ab\n"
   ]
  },
  {
   "cell_type": "code",
   "execution_count": 4,
   "id": "6d64150e",
   "metadata": {},
   "outputs": [
    {
     "data": {
      "text/plain": [
       "array([[0., 0., 0.],\n",
       "       [0., 0., 0.]])"
      ]
     },
     "execution_count": 4,
     "metadata": {},
     "output_type": "execute_result"
    }
   ],
   "source": [
    "# Create an array of zeros with shape (2, 3)\n",
    "zeros = np.zeros((2, 3))\n",
    "zeros"
   ]
  },
  {
   "cell_type": "code",
   "execution_count": 5,
   "id": "924ca258",
   "metadata": {},
   "outputs": [
    {
     "data": {
      "text/plain": [
       "array([[1, 1],\n",
       "       [1, 1],\n",
       "       [1, 1]])"
      ]
     },
     "execution_count": 5,
     "metadata": {},
     "output_type": "execute_result"
    }
   ],
   "source": [
    "# Create an array of ones with shape (3,)   \n",
    "ones = np.ones((3,2), dtype=int)  # Specify dtype as int to create integer\n",
    "\n",
    "ones"
   ]
  },
  {
   "cell_type": "code",
   "execution_count": 6,
   "id": "ccb4c907",
   "metadata": {},
   "outputs": [
    {
     "data": {
      "text/plain": [
       "array([[7, 7],\n",
       "       [7, 7]])"
      ]
     },
     "execution_count": 6,
     "metadata": {},
     "output_type": "execute_result"
    }
   ],
   "source": [
    "#Full arrays\n",
    "full = np.full((2, 2), 7)\n",
    "full"
   ]
  },
  {
   "cell_type": "code",
   "execution_count": 10,
   "id": "0ea8fe51",
   "metadata": {},
   "outputs": [
    {
     "data": {
      "text/plain": [
       "array([1, 3, 5, 7, 9])"
      ]
     },
     "execution_count": 10,
     "metadata": {},
     "output_type": "execute_result"
    }
   ],
   "source": [
    "#Aranging arrays\n",
    "ar = np.arange(1, 10, 2)\n",
    "ar"
   ]
  },
  {
   "cell_type": "code",
   "execution_count": 48,
   "id": "e64f07d6",
   "metadata": {},
   "outputs": [
    {
     "data": {
      "text/plain": [
       "array([[0.26815804, 0.68662799, 0.4723243 , 0.17301919, 0.55764575,\n",
       "        0.74659344, 0.83015615, 0.77686472],\n",
       "       [0.15596228, 0.68525337, 0.49102198, 0.88477194, 0.09495865,\n",
       "        0.67939614, 0.09577332, 0.81474273],\n",
       "       [0.37182837, 0.53465843, 0.75619183, 0.24218143, 0.40564108,\n",
       "        0.38835049, 0.50422197, 0.13963496]])"
      ]
     },
     "execution_count": 48,
     "metadata": {},
     "output_type": "execute_result"
    }
   ],
   "source": [
    "# Random numbers between 0 and 1    \n",
    "data = np.random.rand(3, 8)\n",
    "data\n"
   ]
  },
  {
   "cell_type": "code",
   "execution_count": 66,
   "id": "fa236a51",
   "metadata": {},
   "outputs": [
    {
     "data": {
      "text/plain": [
       "array([[ 5,  2, 14],\n",
       "       [ 1, 12, 13],\n",
       "       [ 4,  3,  3]])"
      ]
     },
     "execution_count": 66,
     "metadata": {},
     "output_type": "execute_result"
    }
   ],
   "source": [
    "#Random Integers\n",
    "random_int = np.random.randint(0, 20, (3,3))\n",
    "random_int"
   ]
  },
  {
   "cell_type": "code",
   "execution_count": 69,
   "id": "147396f0",
   "metadata": {},
   "outputs": [
    {
     "data": {
      "text/plain": [
       "array([  0.,  10.,  20.,  30.,  40.,  50.,  60.,  70.,  80.,  90., 100.])"
      ]
     },
     "execution_count": 69,
     "metadata": {},
     "output_type": "execute_result"
    }
   ],
   "source": [
    "#Linear space\n",
    "lin = np.linspace(0, 100, 11)\n",
    "\n",
    "lin"
   ]
  },
  {
   "cell_type": "code",
   "execution_count": 12,
   "id": "eb82189c",
   "metadata": {},
   "outputs": [
    {
     "data": {
      "text/plain": [
       "array([[1., 0., 0., 0., 0.],\n",
       "       [0., 1., 0., 0., 0.],\n",
       "       [0., 0., 1., 0., 0.],\n",
       "       [0., 0., 0., 1., 0.],\n",
       "       [0., 0., 0., 0., 1.]])"
      ]
     },
     "execution_count": 12,
     "metadata": {},
     "output_type": "execute_result"
    }
   ],
   "source": [
    "#Identity matrix\n",
    "identity = np.identity(5)\n",
    "identity"
   ]
  },
  {
   "cell_type": "markdown",
   "id": "bfc52bc3",
   "metadata": {},
   "source": [
    "## 3. Array Attributes"
   ]
  },
  {
   "cell_type": "code",
   "execution_count": 77,
   "id": "c0604df7",
   "metadata": {},
   "outputs": [
    {
     "name": "stdout",
     "output_type": "stream",
     "text": [
      "[[ 0  1]\n",
      " [ 2  3]\n",
      " [ 4  5]\n",
      " [ 6  7]\n",
      " [ 8  9]\n",
      " [10 11]]\n"
     ]
    },
    {
     "data": {
      "text/plain": [
       "(6, 2)"
      ]
     },
     "execution_count": 77,
     "metadata": {},
     "output_type": "execute_result"
    }
   ],
   "source": [
    "# Attributes of ndarray\n",
    "arr = np.arange(12).reshape(6,2)\n",
    "print(arr)\n",
    "\n",
    "\n",
    "arr.shape"
   ]
  },
  {
   "cell_type": "code",
   "execution_count": 78,
   "id": "9006f27a",
   "metadata": {},
   "outputs": [
    {
     "name": "stdout",
     "output_type": "stream",
     "text": [
      "Shape: (6, 2)\n",
      "Dimensions: 2\n",
      "Size: 12\n",
      "Dtype: int64\n"
     ]
    }
   ],
   "source": [
    "print(\"Shape:\", arr.shape)\n",
    "print(\"Dimensions:\", arr.ndim)\n",
    "print(\"Size:\", arr.size)\n",
    "print(\"Dtype:\", arr.dtype)"
   ]
  },
  {
   "cell_type": "code",
   "execution_count": 79,
   "id": "fce4d795",
   "metadata": {},
   "outputs": [
    {
     "data": {
      "text/plain": [
       "(array([[ 0,  1,  2],\n",
       "        [ 3,  4,  5],\n",
       "        [ 6,  7,  8],\n",
       "        [ 9, 10, 11]]),\n",
       " array([['0', '1'],\n",
       "        ['2', '3'],\n",
       "        ['4', '5'],\n",
       "        ['6', '7'],\n",
       "        ['8', '9'],\n",
       "        ['10', '11']], dtype='<U21'))"
      ]
     },
     "execution_count": 79,
     "metadata": {},
     "output_type": "execute_result"
    }
   ],
   "source": [
    "\n",
    "# Reshape and type conversion\n",
    "reshaped = arr.reshape(4, 3)\n",
    "floats = arr.astype(str)\n",
    "reshaped, floats"
   ]
  },
  {
   "cell_type": "markdown",
   "id": "c9d550cc",
   "metadata": {},
   "source": [
    "## 4. Basic Arithmetic and Universal Functions (ufuncs)"
   ]
  },
  {
   "cell_type": "code",
   "execution_count": 81,
   "id": "f7437d83",
   "metadata": {},
   "outputs": [
    {
     "data": {
      "text/plain": [
       "(array([1, 2, 3]), array([4, 5, 6]))"
      ]
     },
     "execution_count": 81,
     "metadata": {},
     "output_type": "execute_result"
    }
   ],
   "source": [
    "# Element-wise operations\n",
    "x = np.array([1, 2, 3])\n",
    "y = np.array([4, 5, 6])\n",
    "x, y"
   ]
  },
  {
   "cell_type": "code",
   "execution_count": 89,
   "id": "a6ae9a23",
   "metadata": {},
   "outputs": [
    {
     "name": "stdout",
     "output_type": "stream",
     "text": [
      "Add: [5 7 9]\n",
      "Multiply: [ 4 10 18]\n",
      "Power: [1 4 9]\n"
     ]
    },
    {
     "data": {
      "text/plain": [
       "array([0.5, 1. , 1.5])"
      ]
     },
     "execution_count": 89,
     "metadata": {},
     "output_type": "execute_result"
    }
   ],
   "source": [
    "print(\"Add:\", x + y)\n",
    "print(\"Multiply:\", x * y)\n",
    "print(\"Power:\", x ** 2)\n",
    "\n",
    "x/2"
   ]
  },
  {
   "cell_type": "code",
   "execution_count": 88,
   "id": "12760378",
   "metadata": {},
   "outputs": [
    {
     "name": "stdout",
     "output_type": "stream",
     "text": [
      "Sqrt: [1.         1.41421356 1.73205081]\n",
      "Exp: [ 2.71828183  7.3890561  20.08553692]\n",
      "Max: [4 5 6]\n"
     ]
    }
   ],
   "source": [
    "# Universal functions\n",
    "print(\"Sqrt:\", np.sqrt(x))\n",
    "print(\"Exp:\", np.exp(x))\n",
    "print(\"Max:\", np.maximum(x, y))"
   ]
  },
  {
   "cell_type": "code",
   "execution_count": 19,
   "id": "67fe3320",
   "metadata": {},
   "outputs": [
    {
     "data": {
      "text/plain": [
       "array([[0.99448661, 0.283363  , 0.68631898, 0.3837161 ],\n",
       "       [0.49204629, 0.95085463, 0.49931461, 0.41509703],\n",
       "       [0.90553117, 0.4424953 , 0.89860757, 0.26205227]])"
      ]
     },
     "execution_count": 19,
     "metadata": {},
     "output_type": "execute_result"
    }
   ],
   "source": [
    "# Aggregations\n",
    "data = np.random.rand(3, 4)\n",
    "data"
   ]
  },
  {
   "cell_type": "code",
   "execution_count": 20,
   "id": "b21958ba",
   "metadata": {},
   "outputs": [
    {
     "name": "stdout",
     "output_type": "stream",
     "text": [
      "Sum: 7.213883560124264\n",
      "Mean: 0.6011569633436887\n",
      "Std: 0.2599205178911514\n"
     ]
    }
   ],
   "source": [
    "print(\"Sum:\", data.sum())\n",
    "print(\"Mean:\", data.mean())\n",
    "print(\"Std:\", data.std())"
   ]
  },
  {
   "cell_type": "markdown",
   "id": "84817a08",
   "metadata": {},
   "source": [
    "## 5. Indexing, Slicing, and Iteration"
   ]
  },
  {
   "cell_type": "code",
   "execution_count": 21,
   "id": "d0933fc6",
   "metadata": {},
   "outputs": [
    {
     "data": {
      "text/plain": [
       "array([[ 0,  1,  2,  3],\n",
       "       [ 4,  5,  6,  7],\n",
       "       [ 8,  9, 10, 11],\n",
       "       [12, 13, 14, 15]])"
      ]
     },
     "execution_count": 21,
     "metadata": {},
     "output_type": "execute_result"
    }
   ],
   "source": [
    "arr = np.arange(16).reshape(4, 4)\n",
    "arr"
   ]
  },
  {
   "cell_type": "code",
   "execution_count": 22,
   "id": "7b22d001",
   "metadata": {},
   "outputs": [
    {
     "data": {
      "text/plain": [
       "array([[ 0],\n",
       "       [ 4],\n",
       "       [ 8],\n",
       "       [12]])"
      ]
     },
     "execution_count": 22,
     "metadata": {},
     "output_type": "execute_result"
    }
   ],
   "source": [
    "arr[:,0:1] # (rows, columns)"
   ]
  },
  {
   "cell_type": "code",
   "execution_count": 23,
   "id": "145aa1e4",
   "metadata": {},
   "outputs": [
    {
     "name": "stdout",
     "output_type": "stream",
     "text": [
      "Row 1: [4 5 6 7]\n",
      "Column 2: [ 2  6 10 14]\n",
      "Subarray: [[ 5  6]\n",
      " [ 9 10]]\n"
     ]
    }
   ],
   "source": [
    "# Slicing\n",
    "print(\"Row 1:\", arr[1])\n",
    "print(\"Column 2:\", arr[:, 2])\n",
    "print(\"Subarray:\", arr[1:3, 1:3])\n"
   ]
  },
  {
   "cell_type": "markdown",
   "id": "0edc5b95",
   "metadata": {},
   "source": [
    "## 6. Broadcasting\n",
    "- Align dimensions\n",
    "- Expand size-1 dimensions\n",
    "\n",
    "Example: add 1D to each row of 2D array"
   ]
  },
  {
   "cell_type": "code",
   "execution_count": 24,
   "id": "e9563853",
   "metadata": {},
   "outputs": [
    {
     "name": "stdout",
     "output_type": "stream",
     "text": [
      "Broadcasted sum: [[11 22 33]\n",
      " [14 25 36]]\n"
     ]
    }
   ],
   "source": [
    "a = np.array([[1, 2, 3], [4, 5, 6]])\n",
    "b = np.array([10, 20, 30])\n",
    "print(\"Broadcasted sum:\", a + b)"
   ]
  },
  {
   "cell_type": "markdown",
   "id": "a9962ee7",
   "metadata": {},
   "source": [
    "## 7. Shape Manipulation and Combining Arrays"
   ]
  },
  {
   "cell_type": "code",
   "execution_count": 25,
   "id": "97787654",
   "metadata": {},
   "outputs": [
    {
     "name": "stdout",
     "output_type": "stream",
     "text": [
      "Original: [0 1 2 3 4 5]\n",
      "Reshaped 2x3: [[0 1 2]\n",
      " [3 4 5]]\n"
     ]
    }
   ],
   "source": [
    "# Reshaping and transposing\n",
    "arr = np.arange(6)\n",
    "print(\"Original:\", arr)\n",
    "print(\"Reshaped 2x3:\", arr.reshape(2, 3))"
   ]
  },
  {
   "cell_type": "code",
   "execution_count": 29,
   "id": "ea53147f",
   "metadata": {},
   "outputs": [
    {
     "name": "stdout",
     "output_type": "stream",
     "text": [
      "Dot product: 32\n"
     ]
    }
   ],
   "source": [
    "a = np.array([1, 2, 3])\n",
    "b = np.array([4, 5, 6])\n",
    "\n",
    "# i. Dot product\n",
    "dot_product = np.dot(a, b)\n",
    "print(\"Dot product:\", dot_product)\n",
    "\n"
   ]
  },
  {
   "cell_type": "code",
   "execution_count": 30,
   "id": "0e5e4885",
   "metadata": {},
   "outputs": [
    {
     "data": {
      "text/plain": [
       "(array([[1],\n",
       "        [2],\n",
       "        [3]]),\n",
       " array([[4, 5, 6]]))"
      ]
     },
     "execution_count": 30,
     "metadata": {},
     "output_type": "execute_result"
    }
   ],
   "source": [
    "\n",
    "# ii. Matrix multiplication\n",
    "a_2d = a.reshape(3, 1)\n",
    "b_2d = b.reshape(1, 3)\n",
    "a_2d, b_2d\n"
   ]
  },
  {
   "cell_type": "code",
   "execution_count": 31,
   "id": "26c2c14a",
   "metadata": {},
   "outputs": [
    {
     "name": "stdout",
     "output_type": "stream",
     "text": [
      "Matrix multiplication result:\n",
      " [[ 4  5  6]\n",
      " [ 8 10 12]\n",
      " [12 15 18]]\n"
     ]
    }
   ],
   "source": [
    "mat_mult = a_2d @ b_2d\n",
    "print(\"Matrix multiplication result:\\n\", mat_mult)"
   ]
  },
  {
   "cell_type": "code",
   "execution_count": 32,
   "id": "f9090131",
   "metadata": {},
   "outputs": [
    {
     "data": {
      "text/plain": [
       "array([[ 0,  1,  2,  3,  4],\n",
       "       [ 5,  6,  7,  8,  9],\n",
       "       [10, 11, 12, 13, 14],\n",
       "       [15, 16, 17, 18, 19],\n",
       "       [20, 21, 22, 23, 24]])"
      ]
     },
     "execution_count": 32,
     "metadata": {},
     "output_type": "execute_result"
    }
   ],
   "source": [
    "arr = np.arange(25).reshape(5, 5)\n",
    "arr\n"
   ]
  },
  {
   "cell_type": "code",
   "execution_count": 33,
   "id": "ce0f4936",
   "metadata": {},
   "outputs": [
    {
     "name": "stdout",
     "output_type": "stream",
     "text": [
      "Border elements: [ 0  1  2  3  4  5 10 15  9 14 19 20 21 22 23 24]\n"
     ]
    }
   ],
   "source": [
    "border_elements = np.concatenate((\n",
    "    arr[0, :],        # Top row\n",
    "    arr[1:-1, 0],     # Left column (excluding corners)\n",
    "    arr[1:-1, -1],    # Right column (excluding corners)\n",
    "    arr[-1, :]        # Bottom row\n",
    "))\n",
    "print(\"Border elements:\", border_elements)"
   ]
  }
 ],
 "metadata": {
  "kernelspec": {
   "display_name": "Python 3",
   "language": "python",
   "name": "python3"
  },
  "language_info": {
   "codemirror_mode": {
    "name": "ipython",
    "version": 3
   },
   "file_extension": ".py",
   "mimetype": "text/x-python",
   "name": "python",
   "nbconvert_exporter": "python",
   "pygments_lexer": "ipython3",
   "version": "3.9.6"
  }
 },
 "nbformat": 4,
 "nbformat_minor": 5
}
